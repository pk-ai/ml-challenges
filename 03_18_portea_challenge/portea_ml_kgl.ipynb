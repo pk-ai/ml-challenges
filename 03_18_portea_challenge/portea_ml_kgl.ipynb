{
 "cells": [
  {
   "cell_type": "code",
   "execution_count": 1,
   "metadata": {},
   "outputs": [],
   "source": [
    "import pandas as pd"
   ]
  },
  {
   "cell_type": "code",
   "execution_count": 2,
   "metadata": {},
   "outputs": [
    {
     "name": "stderr",
     "output_type": "stream",
     "text": [
      "/home/pradeep/softs/anaconda3/envs/portea/lib/python3.6/site-packages/IPython/core/interactiveshell.py:2728: DtypeWarning: Columns (19) have mixed types. Specify dtype option on import or set low_memory=False.\n",
      "  interactivity=interactivity, compiler=compiler, result=result)\n",
      "/home/pradeep/softs/anaconda3/envs/portea/lib/python3.6/site-packages/IPython/core/interactiveshell.py:2728: DtypeWarning: Columns (20,21) have mixed types. Specify dtype option on import or set low_memory=False.\n",
      "  interactivity=interactivity, compiler=compiler, result=result)\n"
     ]
    }
   ],
   "source": [
    "patient_monthwise_revenue_test = pd.read_csv('data/patient_monthwise_revenue_test.csv')\n",
    "patient_monthwise_revenue_train = pd.read_csv('data/patient_monthwise_revenue_train.csv')\n",
    "physio_diagnosis_train = pd.read_csv('data/physio_diagnosis_train.csv')\n",
    "physio_appts_train = pd.read_csv('data/physio_appts_train.csv')\n",
    "patient_train_classified = pd.read_csv('data/patient_train_classified.csv')"
   ]
  },
  {
   "cell_type": "code",
   "execution_count": 3,
   "metadata": {},
   "outputs": [],
   "source": [
    "physio_diagnosis_train = physio_diagnosis_train.rename(columns={'patientId': 'patient_id'})\n",
    "physio_appts_train = physio_appts_train.rename(columns={'pat_id': 'patient_id'})\n",
    "patient_train_classified = patient_train_classified.rename(columns={'PID': 'patient_id'})"
   ]
  },
  {
   "cell_type": "code",
   "execution_count": 4,
   "metadata": {},
   "outputs": [],
   "source": [
    "md_revenue_diagnosis_train = pd.merge(patient_monthwise_revenue_train, physio_diagnosis_train, on='patient_id')\n",
    "md_revenue_diagnois_appts_train = pd.merge(md_revenue_diagnosis_train, physio_appts_train, on='patient_id')\n",
    "md_revenue_diagnois_appts_class_train = pd.merge(md_revenue_diagnois_appts_train, patient_train_classified, on='patient_id')"
   ]
  },
  {
   "cell_type": "code",
   "execution_count": 5,
   "metadata": {},
   "outputs": [],
   "source": [
    "final_raw_train = md_revenue_diagnois_appts_class_train.drop(columns=\n",
    "    ['Unnamed: 20', 'Unnamed: 21','Unnamed: 7','Unnamed: 8',\n",
    "     'serviceId', 'name','service_name','Service',\n",
    "     'Appt_id', 'FVS', 'approx_age',\n",
    "     'LVD_y', 'gender_y', 'revenue',\n",
    "    'diagnosis_x'], axis=1)"
   ]
  },
  {
   "cell_type": "code",
   "execution_count": 6,
   "metadata": {},
   "outputs": [],
   "source": [
    "final_raw_train = final_raw_train.rename(columns={'gender_x': 'gender', 'LVD_x':'LVD', 'diagnosis_y': 'diagnosis'})"
   ]
  },
  {
   "cell_type": "code",
   "execution_count": 7,
   "metadata": {},
   "outputs": [
    {
     "data": {
      "text/plain": [
       "array(['patient_id', 'visit_month_year', 'service_id', 'visits_count',\n",
       "       'city', 'ref_type', 'ref_name', 'ref_source', 'FVD', 'FVM',\n",
       "       'gender', 'LVD', 'brand', 'visits_required', 'avg_nps',\n",
       "       'diagnosis', 'AGE', 'appt_id', 'startDateTime', 'status', 'cost',\n",
       "       'discount', 'patient_ivr_confirmation', 'appointment_delayed',\n",
       "       'Bucket', 'Revenue'], dtype=object)"
      ]
     },
     "execution_count": 7,
     "metadata": {},
     "output_type": "execute_result"
    }
   ],
   "source": [
    "final_raw_train.columns.values"
   ]
  },
  {
   "cell_type": "code",
   "execution_count": 8,
   "metadata": {},
   "outputs": [
    {
     "data": {
      "text/html": [
       "<div>\n",
       "<style scoped>\n",
       "    .dataframe tbody tr th:only-of-type {\n",
       "        vertical-align: middle;\n",
       "    }\n",
       "\n",
       "    .dataframe tbody tr th {\n",
       "        vertical-align: top;\n",
       "    }\n",
       "\n",
       "    .dataframe thead th {\n",
       "        text-align: right;\n",
       "    }\n",
       "</style>\n",
       "<table border=\"1\" class=\"dataframe\">\n",
       "  <thead>\n",
       "    <tr style=\"text-align: right;\">\n",
       "      <th></th>\n",
       "      <th>patient_id</th>\n",
       "      <th>visit_month_year</th>\n",
       "      <th>service_id</th>\n",
       "      <th>visits_count</th>\n",
       "      <th>city</th>\n",
       "      <th>ref_type</th>\n",
       "      <th>ref_name</th>\n",
       "      <th>ref_source</th>\n",
       "      <th>FVD</th>\n",
       "      <th>FVM</th>\n",
       "      <th>...</th>\n",
       "      <th>AGE</th>\n",
       "      <th>appt_id</th>\n",
       "      <th>startDateTime</th>\n",
       "      <th>status</th>\n",
       "      <th>cost</th>\n",
       "      <th>discount</th>\n",
       "      <th>patient_ivr_confirmation</th>\n",
       "      <th>appointment_delayed</th>\n",
       "      <th>Bucket</th>\n",
       "      <th>Revenue</th>\n",
       "    </tr>\n",
       "  </thead>\n",
       "  <tbody>\n",
       "    <tr>\n",
       "      <th>232452</th>\n",
       "      <td>32900</td>\n",
       "      <td>08/15</td>\n",
       "      <td>35</td>\n",
       "      <td>2</td>\n",
       "      <td>Mumbai</td>\n",
       "      <td>B2C</td>\n",
       "      <td>SEM (Google)</td>\n",
       "      <td>Digital + ATL</td>\n",
       "      <td>18/09/2014</td>\n",
       "      <td>09/14</td>\n",
       "      <td>...</td>\n",
       "      <td>79</td>\n",
       "      <td>174917</td>\n",
       "      <td>2014-11-24 09:45:00</td>\n",
       "      <td>successful</td>\n",
       "      <td>0.0</td>\n",
       "      <td>0.0</td>\n",
       "      <td>\\N</td>\n",
       "      <td>0</td>\n",
       "      <td>High</td>\n",
       "      <td>31200.0</td>\n",
       "    </tr>\n",
       "    <tr>\n",
       "      <th>441155</th>\n",
       "      <td>41249</td>\n",
       "      <td>12/14</td>\n",
       "      <td>2</td>\n",
       "      <td>23</td>\n",
       "      <td>Bangalore</td>\n",
       "      <td>B2C</td>\n",
       "      <td>None</td>\n",
       "      <td>Direct Organic</td>\n",
       "      <td>29/11/2014</td>\n",
       "      <td>11/14</td>\n",
       "      <td>...</td>\n",
       "      <td>63</td>\n",
       "      <td>224639</td>\n",
       "      <td>2015-01-06 17:30:00</td>\n",
       "      <td>successful</td>\n",
       "      <td>0.0</td>\n",
       "      <td>0.0</td>\n",
       "      <td>\\N</td>\n",
       "      <td>0</td>\n",
       "      <td>High</td>\n",
       "      <td>49900.0</td>\n",
       "    </tr>\n",
       "    <tr>\n",
       "      <th>1687804</th>\n",
       "      <td>155602</td>\n",
       "      <td>10/16</td>\n",
       "      <td>2</td>\n",
       "      <td>17</td>\n",
       "      <td>Chennai</td>\n",
       "      <td>B2B</td>\n",
       "      <td>Doctor</td>\n",
       "      <td>Chemist + Doctors</td>\n",
       "      <td>14/01/2016</td>\n",
       "      <td>01/16</td>\n",
       "      <td>...</td>\n",
       "      <td>70</td>\n",
       "      <td>1569063</td>\n",
       "      <td>2016-06-09 14:00:00</td>\n",
       "      <td>successful</td>\n",
       "      <td>350.0</td>\n",
       "      <td>0.0</td>\n",
       "      <td>\\N</td>\n",
       "      <td>0</td>\n",
       "      <td>High</td>\n",
       "      <td>177000.0</td>\n",
       "    </tr>\n",
       "    <tr>\n",
       "      <th>628898</th>\n",
       "      <td>54870</td>\n",
       "      <td>06/15</td>\n",
       "      <td>2</td>\n",
       "      <td>3</td>\n",
       "      <td>NCR</td>\n",
       "      <td>B2C</td>\n",
       "      <td>SEM (Google)</td>\n",
       "      <td>Digital + ATL</td>\n",
       "      <td>25/02/2015</td>\n",
       "      <td>02/15</td>\n",
       "      <td>...</td>\n",
       "      <td>62</td>\n",
       "      <td>642707</td>\n",
       "      <td>2015-07-25 14:00:00</td>\n",
       "      <td>successful</td>\n",
       "      <td>0.0</td>\n",
       "      <td>0.0</td>\n",
       "      <td>\\N</td>\n",
       "      <td>0</td>\n",
       "      <td>High</td>\n",
       "      <td>23300.0</td>\n",
       "    </tr>\n",
       "    <tr>\n",
       "      <th>2525649</th>\n",
       "      <td>276611</td>\n",
       "      <td>12/16</td>\n",
       "      <td>2</td>\n",
       "      <td>4</td>\n",
       "      <td>Chandigarh</td>\n",
       "      <td>B2C</td>\n",
       "      <td>Clinician (B2C)</td>\n",
       "      <td>Referral</td>\n",
       "      <td>29/11/2016</td>\n",
       "      <td>11/16</td>\n",
       "      <td>...</td>\n",
       "      <td>0</td>\n",
       "      <td>2183055</td>\n",
       "      <td>2016-12-14 16:00:00</td>\n",
       "      <td>cancelled</td>\n",
       "      <td>500.0</td>\n",
       "      <td>50.0</td>\n",
       "      <td>\\N</td>\n",
       "      <td>0</td>\n",
       "      <td>High-Med</td>\n",
       "      <td>5950.0</td>\n",
       "    </tr>\n",
       "  </tbody>\n",
       "</table>\n",
       "<p>5 rows × 26 columns</p>\n",
       "</div>"
      ],
      "text/plain": [
       "         patient_id visit_month_year  service_id  visits_count        city  \\\n",
       "232452        32900            08/15          35             2      Mumbai   \n",
       "441155        41249            12/14           2            23   Bangalore   \n",
       "1687804      155602            10/16           2            17     Chennai   \n",
       "628898        54870            06/15           2             3         NCR   \n",
       "2525649      276611            12/16           2             4  Chandigarh   \n",
       "\n",
       "        ref_type         ref_name         ref_source         FVD    FVM  \\\n",
       "232452       B2C     SEM (Google)      Digital + ATL  18/09/2014  09/14   \n",
       "441155       B2C             None     Direct Organic  29/11/2014  11/14   \n",
       "1687804      B2B           Doctor  Chemist + Doctors  14/01/2016  01/16   \n",
       "628898       B2C     SEM (Google)      Digital + ATL  25/02/2015  02/15   \n",
       "2525649      B2C  Clinician (B2C)           Referral  29/11/2016  11/16   \n",
       "\n",
       "           ...    AGE  appt_id        startDateTime      status   cost  \\\n",
       "232452     ...     79   174917  2014-11-24 09:45:00  successful    0.0   \n",
       "441155     ...     63   224639  2015-01-06 17:30:00  successful    0.0   \n",
       "1687804    ...     70  1569063  2016-06-09 14:00:00  successful  350.0   \n",
       "628898     ...     62   642707  2015-07-25 14:00:00  successful    0.0   \n",
       "2525649    ...      0  2183055  2016-12-14 16:00:00   cancelled  500.0   \n",
       "\n",
       "        discount patient_ivr_confirmation  appointment_delayed    Bucket  \\\n",
       "232452       0.0                       \\N                    0      High   \n",
       "441155       0.0                       \\N                    0      High   \n",
       "1687804      0.0                       \\N                    0      High   \n",
       "628898       0.0                       \\N                    0      High   \n",
       "2525649     50.0                       \\N                    0  High-Med   \n",
       "\n",
       "          Revenue  \n",
       "232452    31200.0  \n",
       "441155    49900.0  \n",
       "1687804  177000.0  \n",
       "628898    23300.0  \n",
       "2525649    5950.0  \n",
       "\n",
       "[5 rows x 26 columns]"
      ]
     },
     "execution_count": 8,
     "metadata": {},
     "output_type": "execute_result"
    }
   ],
   "source": [
    "final_raw_train.sample(5)"
   ]
  },
  {
   "cell_type": "code",
   "execution_count": 13,
   "metadata": {},
   "outputs": [],
   "source": [
    "# Missing values\n",
    "missing_values_count = final_raw_train.isnull().sum()"
   ]
  },
  {
   "cell_type": "code",
   "execution_count": 14,
   "metadata": {},
   "outputs": [
    {
     "data": {
      "text/plain": [
       "patient_id                  0\n",
       "visit_month_year            0\n",
       "service_id                  0\n",
       "visits_count                0\n",
       "city                        0\n",
       "ref_type                    0\n",
       "ref_name                    0\n",
       "ref_source                  0\n",
       "FVD                         0\n",
       "FVM                         0\n",
       "gender                      0\n",
       "LVD                         0\n",
       "brand                       0\n",
       "visits_required             0\n",
       "avg_nps                     0\n",
       "diagnosis                   0\n",
       "AGE                         0\n",
       "appt_id                     0\n",
       "startDateTime               0\n",
       "status                      0\n",
       "cost                        0\n",
       "discount                    0\n",
       "patient_ivr_confirmation    0\n",
       "appointment_delayed         0\n",
       "Bucket                      0\n",
       "Revenue                     0\n",
       "dtype: int64"
      ]
     },
     "execution_count": 14,
     "metadata": {},
     "output_type": "execute_result"
    }
   ],
   "source": [
    "missing_values_count"
   ]
  },
  {
   "cell_type": "code",
   "execution_count": 12,
   "metadata": {},
   "outputs": [],
   "source": [
    "final_raw_train = final_raw_train.fillna(0)"
   ]
  },
  {
   "cell_type": "code",
   "execution_count": 15,
   "metadata": {},
   "outputs": [
    {
     "name": "stdout",
     "output_type": "stream",
     "text": [
      "<class 'pandas.core.frame.DataFrame'>\n",
      "Int64Index: 2968558 entries, 0 to 2968557\n",
      "Data columns (total 26 columns):\n",
      "patient_id                  int64\n",
      "visit_month_year            object\n",
      "service_id                  int64\n",
      "visits_count                int64\n",
      "city                        object\n",
      "ref_type                    object\n",
      "ref_name                    object\n",
      "ref_source                  object\n",
      "FVD                         object\n",
      "FVM                         object\n",
      "gender                      object\n",
      "LVD                         object\n",
      "brand                       object\n",
      "visits_required             int64\n",
      "avg_nps                     object\n",
      "diagnosis                   object\n",
      "AGE                         object\n",
      "appt_id                     int64\n",
      "startDateTime               object\n",
      "status                      object\n",
      "cost                        float64\n",
      "discount                    float64\n",
      "patient_ivr_confirmation    object\n",
      "appointment_delayed         int64\n",
      "Bucket                      object\n",
      "Revenue                     float64\n",
      "dtypes: float64(3), int64(6), object(17)\n",
      "memory usage: 611.5+ MB\n"
     ]
    }
   ],
   "source": [
    "final_raw_train.info()"
   ]
  },
  {
   "cell_type": "code",
   "execution_count": null,
   "metadata": {},
   "outputs": [],
   "source": []
  }
 ],
 "metadata": {
  "kernelspec": {
   "display_name": "Python 3",
   "language": "python",
   "name": "python3"
  },
  "language_info": {
   "codemirror_mode": {
    "name": "ipython",
    "version": 3
   },
   "file_extension": ".py",
   "mimetype": "text/x-python",
   "name": "python",
   "nbconvert_exporter": "python",
   "pygments_lexer": "ipython3",
   "version": "3.6.4"
  }
 },
 "nbformat": 4,
 "nbformat_minor": 2
}
