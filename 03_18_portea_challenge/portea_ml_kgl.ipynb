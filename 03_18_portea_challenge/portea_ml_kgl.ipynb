{
 "cells": [
  {
   "cell_type": "code",
   "execution_count": 1,
   "metadata": {},
   "outputs": [],
   "source": [
    "import pandas as pd"
   ]
  },
  {
   "cell_type": "code",
   "execution_count": 2,
   "metadata": {},
   "outputs": [
    {
     "name": "stderr",
     "output_type": "stream",
     "text": [
      "/home/pradeep/softs/anaconda3/envs/portea/lib/python3.6/site-packages/IPython/core/interactiveshell.py:2728: DtypeWarning: Columns (20,21) have mixed types. Specify dtype option on import or set low_memory=False.\n",
      "  interactivity=interactivity, compiler=compiler, result=result)\n"
     ]
    }
   ],
   "source": [
    "#patient_monthwise_revenue_test = pd.read_csv('data/patient_monthwise_revenue_test.csv')\n",
    "patient_monthwise_revenue_train = pd.read_csv('data/patient_monthwise_revenue_train.csv')\n",
    "physio_diagnosis_train = pd.read_csv('data/physio_diagnosis_train.csv')\n",
    "#physio_appts_train = pd.read_csv('data/physio_appts_train.csv')\n",
    "patient_train_classified = pd.read_csv('data/patient_train_classified.csv')"
   ]
  },
  {
   "cell_type": "code",
   "execution_count": 30,
   "metadata": {},
   "outputs": [],
   "source": [
    "patient_monthwise_revenue_train.info()"
   ]
  },
  {
   "cell_type": "code",
   "execution_count": 4,
   "metadata": {},
   "outputs": [
    {
     "name": "stdout",
     "output_type": "stream",
     "text": [
      "<class 'pandas.core.frame.DataFrame'>\n",
      "RangeIndex: 48804 entries, 0 to 48803\n",
      "Data columns (total 9 columns):\n",
      "patientId     48804 non-null int64\n",
      "diagnosis     47748 non-null object\n",
      "Service       48804 non-null object\n",
      "Appt_id       48803 non-null object\n",
      "AGE           48804 non-null object\n",
      "gender        48775 non-null object\n",
      "LVD           48804 non-null object\n",
      "Unnamed: 7    18 non-null object\n",
      "Unnamed: 8    2 non-null object\n",
      "dtypes: int64(1), object(8)\n",
      "memory usage: 3.4+ MB\n"
     ]
    }
   ],
   "source": [
    "#physio_diagnosis_train.info()"
   ]
  },
  {
   "cell_type": "code",
   "execution_count": 3,
   "metadata": {},
   "outputs": [],
   "source": [
    "# Removing unnecessary data\n",
    "\n",
    "# FVS - doesnt have proper information?\n",
    "# diagnosis - duplicate data with 'physio_diagnosis_train'\n",
    "# revenue - much valueable info in 'patient_train_classified', \n",
    "# may be if it is missing in train_classified for particular id, we need to take the value from here ?\n",
    "# service_name - since we have service_id\n",
    "# approx_age - since we have AGE in physio_diagnosis_train\n",
    "# Unnamed: 20 - not required\n",
    "# Unamed: 21 - not required\n",
    "patient_monthwise_revenue_train = patient_monthwise_revenue_train.drop(columns=\n",
    "                                                                       ['FVS', 'diagnosis', \n",
    "                                                                        'revenue', 'service_name', 'approx_age',\n",
    "                                                                        'Unnamed: 20', 'Unnamed: 21'])"
   ]
  },
  {
   "cell_type": "code",
   "execution_count": 4,
   "metadata": {},
   "outputs": [],
   "source": [
    "# gender - it is there in patient_monthwise_revenue_train\n",
    "# LVD - it is there in patient_monthwise_revenue_train\n",
    "# Service - we have service_id in patient_monthwise_revenue_train\n",
    "# Unnamed: 7 - not required\n",
    "# Unamed: 8 - not required\n",
    "# Appt_id - since there is no mapping of training data we are loading for analysis\n",
    "physio_diagnosis_train = physio_diagnosis_train.drop(columns=\n",
    "                                                     ['gender', 'LVD', 'Unnamed: 7', 'Unnamed: 8', 'Service', 'Appt_id'])"
   ]
  },
  {
   "cell_type": "code",
   "execution_count": 7,
   "metadata": {
    "collapsed": true
   },
   "outputs": [],
   "source": [
    "# Nothing to remove from patient_train_classified"
   ]
  },
  {
   "cell_type": "code",
   "execution_count": 5,
   "metadata": {},
   "outputs": [],
   "source": [
    "physio_diagnosis_train = physio_diagnosis_train.rename(columns={'patientId': 'patient_id'})\n",
    "#physio_appts_train = physio_appts_train.rename(columns={'pat_id': 'patient_id'})\n",
    "patient_train_classified = patient_train_classified.rename(columns={'PID': 'patient_id'})"
   ]
  },
  {
   "cell_type": "code",
   "execution_count": 6,
   "metadata": {},
   "outputs": [],
   "source": [
    "md_revenue_diagnosis_train = pd.merge(patient_monthwise_revenue_train, physio_diagnosis_train, on='patient_id')\n",
    "# Commenting out appts_train(appointments) data since the appts_test data is not available.\n",
    "#md_revenue_diagnois_appts_train = pd.merge(md_revenue_diagnosis_train, physio_appts_train, on='patient_id')\n",
    "final_raw_train = pd.merge(md_revenue_diagnosis_train, patient_train_classified, on='patient_id')"
   ]
  },
  {
   "cell_type": "code",
   "execution_count": 7,
   "metadata": {},
   "outputs": [
    {
     "name": "stdout",
     "output_type": "stream",
     "text": [
      "<class 'pandas.core.frame.DataFrame'>\n",
      "Int64Index: 83307 entries, 0 to 83306\n",
      "Data columns (total 19 columns):\n",
      "patient_id          83307 non-null int64\n",
      "visit_month_year    83307 non-null object\n",
      "service_id          83307 non-null int64\n",
      "visits_count        83307 non-null int64\n",
      "city                83307 non-null object\n",
      "ref_type            83307 non-null object\n",
      "ref_name            83307 non-null object\n",
      "ref_source          83307 non-null object\n",
      "FVD                 83307 non-null object\n",
      "FVM                 83307 non-null object\n",
      "gender              83274 non-null object\n",
      "LVD                 83307 non-null object\n",
      "brand               83307 non-null object\n",
      "visits_required     83307 non-null int64\n",
      "avg_nps             83307 non-null object\n",
      "diagnosis           81570 non-null object\n",
      "AGE                 83307 non-null object\n",
      "Bucket              83307 non-null object\n",
      "Revenue             83307 non-null float64\n",
      "dtypes: float64(1), int64(4), object(14)\n",
      "memory usage: 12.7+ MB\n"
     ]
    }
   ],
   "source": [
    "final_raw_train.info()"
   ]
  },
  {
   "cell_type": "code",
   "execution_count": null,
   "metadata": {
    "collapsed": true
   },
   "outputs": [],
   "source": [
    "'''\n",
    "final_raw_train = md_revenue_diagnois_appts_class_train.drop(columns=\n",
    "    ['Unnamed: 20', 'Unnamed: 21','Unnamed: 7','Unnamed: 8',\n",
    "     'serviceId', 'name','service_name','Service',\n",
    "     'Appt_id', 'FVS', 'approx_age',\n",
    "     'LVD_y', 'gender_y', 'revenue',\n",
    "    'diagnosis_x'], axis=1)\n",
    "'''"
   ]
  },
  {
   "cell_type": "code",
   "execution_count": null,
   "metadata": {
    "collapsed": true
   },
   "outputs": [],
   "source": [
    "#final_raw_train = final_raw_train.rename(columns={'gender_x': 'gender', 'LVD_x':'LVD', 'diagnosis_y': 'diagnosis'})"
   ]
  },
  {
   "cell_type": "code",
   "execution_count": 20,
   "metadata": {},
   "outputs": [
    {
     "data": {
      "text/html": [
       "<div>\n",
       "<style scoped>\n",
       "    .dataframe tbody tr th:only-of-type {\n",
       "        vertical-align: middle;\n",
       "    }\n",
       "\n",
       "    .dataframe tbody tr th {\n",
       "        vertical-align: top;\n",
       "    }\n",
       "\n",
       "    .dataframe thead th {\n",
       "        text-align: right;\n",
       "    }\n",
       "</style>\n",
       "<table border=\"1\" class=\"dataframe\">\n",
       "  <thead>\n",
       "    <tr style=\"text-align: right;\">\n",
       "      <th></th>\n",
       "      <th>patient_id</th>\n",
       "      <th>visit_month_year</th>\n",
       "      <th>service_id</th>\n",
       "      <th>visits_count</th>\n",
       "      <th>city</th>\n",
       "      <th>ref_type</th>\n",
       "      <th>ref_name</th>\n",
       "      <th>ref_source</th>\n",
       "      <th>FVD</th>\n",
       "      <th>FVM</th>\n",
       "      <th>gender</th>\n",
       "      <th>LVD</th>\n",
       "      <th>brand</th>\n",
       "      <th>visits_required</th>\n",
       "      <th>avg_nps</th>\n",
       "      <th>diagnosis</th>\n",
       "      <th>AGE</th>\n",
       "      <th>Bucket</th>\n",
       "      <th>Revenue</th>\n",
       "    </tr>\n",
       "  </thead>\n",
       "  <tbody>\n",
       "    <tr>\n",
       "      <th>5447</th>\n",
       "      <td>37738</td>\n",
       "      <td>11/14</td>\n",
       "      <td>2</td>\n",
       "      <td>7</td>\n",
       "      <td>Chennai</td>\n",
       "      <td>B2B</td>\n",
       "      <td>Apsalom S</td>\n",
       "      <td>Chemist + Doctors</td>\n",
       "      <td>03/11/2014</td>\n",
       "      <td>11/14</td>\n",
       "      <td>female</td>\n",
       "      <td>19/12/2017</td>\n",
       "      <td>Portea</td>\n",
       "      <td>15</td>\n",
       "      <td>9.25</td>\n",
       "      <td>post traumatic disorder</td>\n",
       "      <td>59</td>\n",
       "      <td>High</td>\n",
       "      <td>302250.0</td>\n",
       "    </tr>\n",
       "    <tr>\n",
       "      <th>81485</th>\n",
       "      <td>433969</td>\n",
       "      <td>10/17</td>\n",
       "      <td>1</td>\n",
       "      <td>1</td>\n",
       "      <td>Bangalore</td>\n",
       "      <td>B2C</td>\n",
       "      <td>SMS</td>\n",
       "      <td>Referral</td>\n",
       "      <td>23/10/2017</td>\n",
       "      <td>10/17</td>\n",
       "      <td>female</td>\n",
       "      <td>02/11/2017</td>\n",
       "      <td>Portea</td>\n",
       "      <td>10</td>\n",
       "      <td>10</td>\n",
       "      <td>ORIF and bone grafting post non union fracture...</td>\n",
       "      <td>45</td>\n",
       "      <td>Med</td>\n",
       "      <td>4800.0</td>\n",
       "    </tr>\n",
       "    <tr>\n",
       "      <th>21562</th>\n",
       "      <td>86324</td>\n",
       "      <td>07/15</td>\n",
       "      <td>2</td>\n",
       "      <td>8</td>\n",
       "      <td>Bangalore</td>\n",
       "      <td>B2C</td>\n",
       "      <td>Facebook Organic</td>\n",
       "      <td>Digital + ATL</td>\n",
       "      <td>03/07/2015</td>\n",
       "      <td>07/15</td>\n",
       "      <td>female</td>\n",
       "      <td>12/07/2015</td>\n",
       "      <td>Portea</td>\n",
       "      <td>7</td>\n",
       "      <td>7.67</td>\n",
       "      <td>mechanical back pain ,SLR test :-ve, \\ntendern...</td>\n",
       "      <td>30</td>\n",
       "      <td>Med</td>\n",
       "      <td>4000.0</td>\n",
       "    </tr>\n",
       "    <tr>\n",
       "      <th>67932</th>\n",
       "      <td>325213</td>\n",
       "      <td>03/17</td>\n",
       "      <td>2</td>\n",
       "      <td>3</td>\n",
       "      <td>Bangalore</td>\n",
       "      <td>B2C</td>\n",
       "      <td>None</td>\n",
       "      <td>Direct Organic</td>\n",
       "      <td>25/03/2017</td>\n",
       "      <td>03/17</td>\n",
       "      <td>male</td>\n",
       "      <td>08/04/2017</td>\n",
       "      <td>Portea</td>\n",
       "      <td>10</td>\n",
       "      <td>9</td>\n",
       "      <td>Stroke</td>\n",
       "      <td>60</td>\n",
       "      <td>Med</td>\n",
       "      <td>2750.0</td>\n",
       "    </tr>\n",
       "    <tr>\n",
       "      <th>13180</th>\n",
       "      <td>57465</td>\n",
       "      <td>03/15</td>\n",
       "      <td>2</td>\n",
       "      <td>9</td>\n",
       "      <td>NCR</td>\n",
       "      <td>B2C</td>\n",
       "      <td>Other</td>\n",
       "      <td>Direct Organic</td>\n",
       "      <td>11/03/2015</td>\n",
       "      <td>03/15</td>\n",
       "      <td>female</td>\n",
       "      <td>07/04/2015</td>\n",
       "      <td>Portea</td>\n",
       "      <td>10</td>\n",
       "      <td>\\N</td>\n",
       "      <td>osteo-arthritis,others - ortho</td>\n",
       "      <td>57</td>\n",
       "      <td>High-Med</td>\n",
       "      <td>6100.0</td>\n",
       "    </tr>\n",
       "  </tbody>\n",
       "</table>\n",
       "</div>"
      ],
      "text/plain": [
       "       patient_id visit_month_year  service_id  visits_count       city  \\\n",
       "5447        37738            11/14           2             7    Chennai   \n",
       "81485      433969            10/17           1             1  Bangalore   \n",
       "21562       86324            07/15           2             8  Bangalore   \n",
       "67932      325213            03/17           2             3  Bangalore   \n",
       "13180       57465            03/15           2             9        NCR   \n",
       "\n",
       "      ref_type          ref_name         ref_source         FVD    FVM  \\\n",
       "5447       B2B         Apsalom S  Chemist + Doctors  03/11/2014  11/14   \n",
       "81485      B2C               SMS           Referral  23/10/2017  10/17   \n",
       "21562      B2C  Facebook Organic      Digital + ATL  03/07/2015  07/15   \n",
       "67932      B2C              None     Direct Organic  25/03/2017  03/17   \n",
       "13180      B2C             Other     Direct Organic  11/03/2015  03/15   \n",
       "\n",
       "       gender         LVD   brand  visits_required avg_nps  \\\n",
       "5447   female  19/12/2017  Portea               15    9.25   \n",
       "81485  female  02/11/2017  Portea               10      10   \n",
       "21562  female  12/07/2015  Portea                7    7.67   \n",
       "67932    male  08/04/2017  Portea               10       9   \n",
       "13180  female  07/04/2015  Portea               10      \\N   \n",
       "\n",
       "                                               diagnosis AGE    Bucket  \\\n",
       "5447                             post traumatic disorder  59      High   \n",
       "81485  ORIF and bone grafting post non union fracture...  45       Med   \n",
       "21562  mechanical back pain ,SLR test :-ve, \\ntendern...  30       Med   \n",
       "67932                                             Stroke  60       Med   \n",
       "13180                     osteo-arthritis,others - ortho  57  High-Med   \n",
       "\n",
       "        Revenue  \n",
       "5447   302250.0  \n",
       "81485    4800.0  \n",
       "21562    4000.0  \n",
       "67932    2750.0  \n",
       "13180    6100.0  "
      ]
     },
     "execution_count": 20,
     "metadata": {},
     "output_type": "execute_result"
    }
   ],
   "source": [
    "final_raw_train.sample(5)"
   ]
  },
  {
   "cell_type": "code",
   "execution_count": 12,
   "metadata": {
    "collapsed": true
   },
   "outputs": [],
   "source": [
    "# Missing values\n",
    "missing_values_count = final_raw_train.isnull().sum()"
   ]
  },
  {
   "cell_type": "code",
   "execution_count": 13,
   "metadata": {},
   "outputs": [
    {
     "data": {
      "text/plain": [
       "patient_id             0\n",
       "visit_month_year       0\n",
       "service_id             0\n",
       "visits_count           0\n",
       "city                   0\n",
       "ref_type               0\n",
       "ref_name               0\n",
       "ref_source             0\n",
       "FVD                    0\n",
       "FVM                    0\n",
       "gender                33\n",
       "LVD                    0\n",
       "brand                  0\n",
       "visits_required        0\n",
       "avg_nps                0\n",
       "diagnosis           1737\n",
       "Appt_id               15\n",
       "AGE                    0\n",
       "Bucket                 0\n",
       "Revenue                0\n",
       "dtype: int64"
      ]
     },
     "execution_count": 13,
     "metadata": {},
     "output_type": "execute_result"
    }
   ],
   "source": [
    "missing_values_count"
   ]
  },
  {
   "cell_type": "code",
   "execution_count": 8,
   "metadata": {},
   "outputs": [],
   "source": [
    "# missing :1737  diagnosis, 33 Gender\n",
    "# Applicable when merging with appts_trai data: Gender has 204 missing values and diagnosis has 40.85 K missing value\n",
    "final_raw_train = final_raw_train.fillna(0)"
   ]
  },
  {
   "cell_type": "code",
   "execution_count": null,
   "metadata": {
    "collapsed": true
   },
   "outputs": [],
   "source": [
    "# Individual info about the dataframe with columns info\n",
    "final_raw_train.info()"
   ]
  },
  {
   "cell_type": "code",
   "execution_count": 22,
   "metadata": {
    "collapsed": true
   },
   "outputs": [],
   "source": [
    "# Writing the raw data to csv file, the processed file\n",
    "#final_raw_train.to_csv('data/full_train_pros.csv', index=False)\n",
    "final_raw_train.to_csv('data/full_train_wo_appts_pros.csv', index=False)"
   ]
  },
  {
   "cell_type": "code",
   "execution_count": 9,
   "metadata": {},
   "outputs": [],
   "source": [
    "#full_train_pros = pd.read_csv('data/full_train_pros.csv')\n",
    "full_train_pros = pd.read_csv('data/full_train_wo_appts_pros.csv')"
   ]
  },
  {
   "cell_type": "code",
   "execution_count": 10,
   "metadata": {},
   "outputs": [
    {
     "name": "stdout",
     "output_type": "stream",
     "text": [
      "<class 'pandas.core.frame.DataFrame'>\n",
      "RangeIndex: 83307 entries, 0 to 83306\n",
      "Data columns (total 19 columns):\n",
      "patient_id          83307 non-null int64\n",
      "visit_month_year    83307 non-null object\n",
      "service_id          83307 non-null int64\n",
      "visits_count        83307 non-null int64\n",
      "city                83307 non-null object\n",
      "ref_type            83307 non-null object\n",
      "ref_name            83307 non-null object\n",
      "ref_source          83307 non-null object\n",
      "FVD                 83307 non-null object\n",
      "FVM                 83307 non-null object\n",
      "gender              83307 non-null object\n",
      "LVD                 83307 non-null object\n",
      "brand               83307 non-null object\n",
      "visits_required     83307 non-null int64\n",
      "avg_nps             83307 non-null object\n",
      "diagnosis           83307 non-null object\n",
      "AGE                 83307 non-null object\n",
      "Bucket              83307 non-null object\n",
      "Revenue             83307 non-null float64\n",
      "dtypes: float64(1), int64(4), object(14)\n",
      "memory usage: 12.1+ MB\n"
     ]
    }
   ],
   "source": [
    "full_train_pros.info()"
   ]
  },
  {
   "cell_type": "code",
   "execution_count": 11,
   "metadata": {},
   "outputs": [],
   "source": [
    "cols_to_process = ['visit_month_year','city','ref_type','ref_name',\n",
    "                     'ref_source','FVD','FVM','gender','LVD','brand',\n",
    "                     'avg_nps','diagnosis','AGE','Bucket']"
   ]
  },
  {
   "cell_type": "code",
   "execution_count": 12,
   "metadata": {},
   "outputs": [],
   "source": [
    "# Now converting the object data into numerical data for analysis\n",
    "# For 'visit_month_year'\n",
    "'''\n",
    "full_train_pros[['visit_month_year','city','ref_type','ref_name',\n",
    "                     'ref_source','FVD','FVM','gender','LVD','brand',\n",
    "                     'avg_nps','diagnosis','AGE','status','cost',\n",
    "                     'discount','patient_ivr_confirmation','Bucket']] = full_train_pros[['visit_month_year','city','ref_type','ref_name',\n",
    "                     'ref_source','FVD','FVM','gender','LVD','brand',\n",
    "                     'avg_nps','diagnosis','AGE','status','cost',\n",
    "                     'discount','patient_ivr_confirmation','Bucket']].astype(str)\n",
    "'''\n",
    "full_train_pros[cols_to_process] = full_train_pros[cols_to_process].astype(str)"
   ]
  },
  {
   "cell_type": "code",
   "execution_count": 13,
   "metadata": {},
   "outputs": [],
   "source": [
    "# For encoding the strings\n",
    "from sklearn.preprocessing import LabelEncoder\n"
   ]
  },
  {
   "cell_type": "code",
   "execution_count": 14,
   "metadata": {},
   "outputs": [],
   "source": [
    "cols_with_classes = {}\n",
    "for colm in cols_to_process:\n",
    "    le = LabelEncoder()\n",
    "    full_train_pros[colm] = le.fit_transform(full_train_pros[colm])\n",
    "    cols_with_classes[colm] = le"
   ]
  },
  {
   "cell_type": "code",
   "execution_count": 38,
   "metadata": {
    "collapsed": true
   },
   "outputs": [],
   "source": [
    "#full_train_pros.to_csv('data/full_train_cleaned_encoded.csv', index=False)\n",
    "#le.classes_\n",
    "full_train_pros.to_csv('data/full_train_wo_appts_cleaned_encoded.csv', index=False)"
   ]
  },
  {
   "cell_type": "code",
   "execution_count": 26,
   "metadata": {},
   "outputs": [],
   "source": [
    "#train_data = pd.read_csv('data/full_train_cleaned_encoded.csv')\n",
    "train_data = pd.read_csv('data/full_train_wo_appts_cleaned_encoded.csv')"
   ]
  },
  {
   "cell_type": "code",
   "execution_count": 27,
   "metadata": {},
   "outputs": [],
   "source": [
    "train_data = train_data.drop_duplicates()"
   ]
  },
  {
   "cell_type": "code",
   "execution_count": 28,
   "metadata": {},
   "outputs": [],
   "source": [
    "# Getting the labels, 'Revenue' is not taken into consideration, may be that can be used for Regresssion\n",
    "patient_ids = train_data['patient_id']\n",
    "Y_train = train_data['Bucket']\n",
    "Y_train_R = train_data['Revenue']"
   ]
  },
  {
   "cell_type": "code",
   "execution_count": 21,
   "metadata": {},
   "outputs": [],
   "source": [
    "#X_train = train_data.drop(columns=['Bucket','Revenue', 'startDateTime']) # with appts_train\n",
    "#X_train = train_data.drop(columns=['Bucket','Revenue'])\n",
    "# Need to remove patient_id also \n",
    "X_train = train_data.drop(columns=['patient_id', 'Bucket','Revenue'])"
   ]
  },
  {
   "cell_type": "code",
   "execution_count": 22,
   "metadata": {},
   "outputs": [],
   "source": [
    "# Converting into numpy array\n",
    "X_train = X_train.as_matrix()\n",
    "Y_train = Y_train.as_matrix()\n",
    "Y_train_R = Y_train_R.as_matrix()"
   ]
  },
  {
   "cell_type": "code",
   "execution_count": 23,
   "metadata": {},
   "outputs": [],
   "source": [
    "# Importing Regressor and Classifier from Support Vector Machine\n",
    "from sklearn.svm import SVR, SVC"
   ]
  },
  {
   "cell_type": "code",
   "execution_count": 24,
   "metadata": {},
   "outputs": [],
   "source": [
    "# Initializing classifier\n",
    "clf = SVC()"
   ]
  },
  {
   "cell_type": "code",
   "execution_count": 25,
   "metadata": {},
   "outputs": [
    {
     "data": {
      "text/plain": [
       "SVC(C=1.0, cache_size=200, class_weight=None, coef0=0.0,\n",
       "  decision_function_shape='ovr', degree=3, gamma='auto', kernel='rbf',\n",
       "  max_iter=-1, probability=False, random_state=None, shrinking=True,\n",
       "  tol=0.001, verbose=False)"
      ]
     },
     "execution_count": 25,
     "metadata": {},
     "output_type": "execute_result"
    }
   ],
   "source": [
    "# Running the Machine learning model for fit method.\n",
    "clf.fit(X_train, Y_train)"
   ]
  },
  {
   "cell_type": "code",
   "execution_count": 31,
   "metadata": {},
   "outputs": [
    {
     "data": {
      "text/plain": [
       "SVR(C=1.0, cache_size=200, coef0=0.0, degree=3, epsilon=0.1, gamma='auto',\n",
       "  kernel='rbf', max_iter=-1, shrinking=True, tol=0.001, verbose=False)"
      ]
     },
     "execution_count": 31,
     "metadata": {},
     "output_type": "execute_result"
    }
   ],
   "source": [
    "# Initializing Regressor\n",
    "reg = SVR()\n",
    "# Calling the model to train on the data.\n",
    "reg.fit(X_train, Y_train_R)"
   ]
  },
  {
   "cell_type": "code",
   "execution_count": 29,
   "metadata": {},
   "outputs": [],
   "source": [
    "# Saving the classifer into pickle format.\n",
    "from six.moves import cPickle as pickle\n",
    "\n",
    "try:\n",
    "    # Saving the classifier to pickle\n",
    "    with open('data/train_svc_clf_wo_pat_id.pickle', 'wb') as f:\n",
    "        pickle.dump(clf, f, pickle.HIGHEST_PROTOCOL)\n",
    "    \n",
    "    # Saving Regressor to pickle\n",
    "    '''\n",
    "    with open('data/train_svr_reg.pickle', 'wb') as f:\n",
    "        pickle.dump(reg, f, pickle.HIGHEST_PROTOCOL)\n",
    "    '''    \n",
    "    # Saving cols_with_classes to pickle which are needed for test\n",
    "    '''with open('data/cols_with_classes.pickle', 'wb') as f:\n",
    "        pickle.dump(cols_with_classes, f, pickle.HIGHEST_PROTOCOL)'''\n",
    "except Exception as e:\n",
    "    print('Got exception', e)"
   ]
  },
  {
   "cell_type": "code",
   "execution_count": 32,
   "metadata": {},
   "outputs": [],
   "source": [
    "# Saving the classifer into pickle format.\n",
    "from six.moves import cPickle as pickle\n",
    "\n",
    "try:\n",
    "    # Saving Regressor to pickle\n",
    "    with open('data/train_svr_reg.pickle', 'wb') as f:\n",
    "        pickle.dump(reg, f, pickle.HIGHEST_PROTOCOL)\n",
    "except Exception as e:\n",
    "    print('Got exception', e)"
   ]
  },
  {
   "cell_type": "code",
   "execution_count": null,
   "metadata": {},
   "outputs": [],
   "source": []
  }
 ],
 "metadata": {
  "kernelspec": {
   "display_name": "Python 3",
   "language": "python",
   "name": "python3"
  },
  "language_info": {
   "codemirror_mode": {
    "name": "ipython",
    "version": 3
   },
   "file_extension": ".py",
   "mimetype": "text/x-python",
   "name": "python",
   "nbconvert_exporter": "python",
   "pygments_lexer": "ipython3",
   "version": "3.6.5"
  }
 },
 "nbformat": 4,
 "nbformat_minor": 2
}
