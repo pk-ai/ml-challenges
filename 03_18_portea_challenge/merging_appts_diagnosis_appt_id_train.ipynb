{
 "cells": [
  {
   "cell_type": "code",
   "execution_count": 1,
   "metadata": {
    "collapsed": true
   },
   "outputs": [],
   "source": [
    "import pandas as pd"
   ]
  },
  {
   "cell_type": "code",
   "execution_count": 2,
   "metadata": {
    "collapsed": true
   },
   "outputs": [],
   "source": [
    "physio_diagnosis_train = pd.read_csv('data/physio_diagnosis_train.csv')\n",
    "physio_appts_train = pd.read_csv('data/physio_appts_train.csv')"
   ]
  },
  {
   "cell_type": "code",
   "execution_count": 6,
   "metadata": {},
   "outputs": [
    {
     "name": "stdout",
     "output_type": "stream",
     "text": [
      "<class 'pandas.core.frame.DataFrame'>\n",
      "RangeIndex: 48804 entries, 0 to 48803\n",
      "Data columns (total 9 columns):\n",
      "patientId     48804 non-null int64\n",
      "diagnosis     47748 non-null object\n",
      "Service       48804 non-null object\n",
      "Appt_id       48803 non-null object\n",
      "AGE           48804 non-null object\n",
      "gender        48775 non-null object\n",
      "LVD           48804 non-null object\n",
      "Unnamed: 7    18 non-null object\n",
      "Unnamed: 8    2 non-null object\n",
      "dtypes: int64(1), object(8)\n",
      "memory usage: 3.4+ MB\n"
     ]
    }
   ],
   "source": [
    "physio_diagnosis_train.info()"
   ]
  },
  {
   "cell_type": "code",
   "execution_count": 7,
   "metadata": {},
   "outputs": [
    {
     "name": "stdout",
     "output_type": "stream",
     "text": [
      "<class 'pandas.core.frame.DataFrame'>\n",
      "RangeIndex: 501324 entries, 0 to 501323\n",
      "Data columns (total 10 columns):\n",
      "appt_id                     501324 non-null int64\n",
      "pat_id                      501324 non-null int64\n",
      "startDateTime               501324 non-null object\n",
      "serviceId                   501324 non-null int64\n",
      "name                        501324 non-null object\n",
      "status                      501324 non-null object\n",
      "cost                        501324 non-null float64\n",
      "discount                    501324 non-null float64\n",
      "patient_ivr_confirmation    501324 non-null object\n",
      "appointment_delayed         501324 non-null int64\n",
      "dtypes: float64(2), int64(4), object(4)\n",
      "memory usage: 38.2+ MB\n"
     ]
    }
   ],
   "source": [
    "physio_appts_train.info()"
   ]
  },
  {
   "cell_type": "code",
   "execution_count": 8,
   "metadata": {
    "collapsed": true
   },
   "outputs": [],
   "source": [
    "physio_appts_train['appt_id'] = physio_appts_train['appt_id'].astype(str)\n",
    "physio_diagnosis_train['Appt_id'] = physio_diagnosis_train['Appt_id'].astype(str)"
   ]
  },
  {
   "cell_type": "code",
   "execution_count": 9,
   "metadata": {
    "collapsed": true
   },
   "outputs": [],
   "source": [
    "md = pd.merge(physio_appts_train, physio_diagnosis_train, how='left', left_on=['appt_id', 'pat_id'], right_on=['Appt_id','patientId'])"
   ]
  },
  {
   "cell_type": "code",
   "execution_count": 10,
   "metadata": {},
   "outputs": [
    {
     "name": "stdout",
     "output_type": "stream",
     "text": [
      "<class 'pandas.core.frame.DataFrame'>\n",
      "Int64Index: 501324 entries, 0 to 501323\n",
      "Data columns (total 19 columns):\n",
      "appt_id                     501324 non-null object\n",
      "pat_id                      501324 non-null int64\n",
      "startDateTime               501324 non-null object\n",
      "serviceId                   501324 non-null int64\n",
      "name                        501324 non-null object\n",
      "status                      501324 non-null object\n",
      "cost                        501324 non-null float64\n",
      "discount                    501324 non-null float64\n",
      "patient_ivr_confirmation    501324 non-null object\n",
      "appointment_delayed         501324 non-null int64\n",
      "patientId                   48364 non-null float64\n",
      "diagnosis                   47311 non-null object\n",
      "Service                     48364 non-null object\n",
      "Appt_id                     48364 non-null object\n",
      "AGE                         48364 non-null object\n",
      "gender                      48335 non-null object\n",
      "LVD                         48364 non-null object\n",
      "Unnamed: 7                  0 non-null object\n",
      "Unnamed: 8                  0 non-null object\n",
      "dtypes: float64(3), int64(3), object(13)\n",
      "memory usage: 76.5+ MB\n"
     ]
    }
   ],
   "source": [
    "md.info()"
   ]
  },
  {
   "cell_type": "code",
   "execution_count": null,
   "metadata": {
    "collapsed": true
   },
   "outputs": [],
   "source": [
    "physio_diagnosis_train = physio_diagnosis_train.rename(columns={'Appt_id': 'appt_id'})"
   ]
  },
  {
   "cell_type": "code",
   "execution_count": null,
   "metadata": {
    "collapsed": true
   },
   "outputs": [],
   "source": [
    "md.head()"
   ]
  },
  {
   "cell_type": "code",
   "execution_count": null,
   "metadata": {
    "collapsed": true
   },
   "outputs": [],
   "source": [
    "md.tail()"
   ]
  },
  {
   "cell_type": "code",
   "execution_count": null,
   "metadata": {
    "collapsed": true
   },
   "outputs": [],
   "source": [
    "pat_ids = [id for id in md[['patientId', 'pat_id']] if id['patiendId'] == id['patientId']]"
   ]
  },
  {
   "cell_type": "code",
   "execution_count": null,
   "metadata": {
    "collapsed": true
   },
   "outputs": [],
   "source": [
    "len(pat_ids)"
   ]
  },
  {
   "cell_type": "code",
   "execution_count": null,
   "metadata": {
    "collapsed": true
   },
   "outputs": [],
   "source": [
    "pat_ids = md[['patientId', 'pat_id']]"
   ]
  },
  {
   "cell_type": "code",
   "execution_count": null,
   "metadata": {
    "collapsed": true
   },
   "outputs": [],
   "source": []
  },
  {
   "cell_type": "code",
   "execution_count": null,
   "metadata": {
    "collapsed": true
   },
   "outputs": [],
   "source": [
    "md_pats = [row['patientId'], row['pat_id'] for id,row in pat_ids.iterrows() if row['patientId'] == row['patientId'] and row['pat_id'] == row['pat_id']]"
   ]
  },
  {
   "cell_type": "code",
   "execution_count": null,
   "metadata": {
    "collapsed": true,
    "scrolled": true
   },
   "outputs": [],
   "source": [
    "ls_patds = list()\n",
    "for id, row in pat_ids.iterrows():\n",
    "    if row['pat_id'] != row['patientId']:\n",
    "        ls_patds.append((row['pat_id'], row['patientId']))\n",
    "print(ls_patds)"
   ]
  },
  {
   "cell_type": "code",
   "execution_count": null,
   "metadata": {
    "collapsed": true
   },
   "outputs": [],
   "source": [
    "len(ls_patds)"
   ]
  },
  {
   "cell_type": "code",
   "execution_count": null,
   "metadata": {
    "collapsed": true
   },
   "outputs": [],
   "source": [
    "ls_patds"
   ]
  },
  {
   "cell_type": "code",
   "execution_count": null,
   "metadata": {
    "collapsed": true
   },
   "outputs": [],
   "source": []
  }
 ],
 "metadata": {
  "kernelspec": {
   "display_name": "Python 3",
   "language": "python",
   "name": "python3"
  },
  "language_info": {
   "codemirror_mode": {
    "name": "ipython",
    "version": 3
   },
   "file_extension": ".py",
   "mimetype": "text/x-python",
   "name": "python",
   "nbconvert_exporter": "python",
   "pygments_lexer": "ipython3",
   "version": "3.6.3"
  }
 },
 "nbformat": 4,
 "nbformat_minor": 2
}
