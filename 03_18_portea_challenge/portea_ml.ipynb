{
 "cells": [
  {
   "cell_type": "code",
   "execution_count": 1,
   "metadata": {
    "collapsed": true
   },
   "outputs": [],
   "source": [
    "import pandas as pd"
   ]
  },
  {
   "cell_type": "code",
   "execution_count": null,
   "metadata": {
    "collapsed": true
   },
   "outputs": [],
   "source": [
    "# Reading it from csv using pandas\n",
    "patient_monthwise_revenue_test = pd.read_csv('data/patient_monthwise_revenue_test.csv')"
   ]
  },
  {
   "cell_type": "code",
   "execution_count": null,
   "metadata": {
    "collapsed": true
   },
   "outputs": [],
   "source": [
    "# Importing all other files\n",
    "patient_monthwise_revenue_train = pd.read_csv('data/patient_monthwise_revenue_train.csv')\n",
    "physio_diagnosis_train = pd.read_csv('data/physio_diagnosis_train.csv')\n",
    "physio_appts_train = pd.read_csv('data/physio_appts_train.csv')\n",
    "patient_train_classified = pd.read_csv('data/patient_train_classified.csv')\n",
    "physio_diagnosis_test = pd.read_csv('data/physio_diagnosis_test.csv')"
   ]
  },
  {
   "cell_type": "code",
   "execution_count": null,
   "metadata": {
    "collapsed": true
   },
   "outputs": [],
   "source": [
    "patient_monthwise_revenue_train.head()"
   ]
  },
  {
   "cell_type": "code",
   "execution_count": null,
   "metadata": {
    "collapsed": true
   },
   "outputs": [],
   "source": [
    "patient_monthwise_revenue_train.count()"
   ]
  },
  {
   "cell_type": "code",
   "execution_count": null,
   "metadata": {
    "collapsed": true
   },
   "outputs": [],
   "source": [
    "# patient_id is marked as patientid - this need to be renamed\n",
    "physio_diagnosis_train.head()"
   ]
  },
  {
   "cell_type": "code",
   "execution_count": null,
   "metadata": {
    "collapsed": true
   },
   "outputs": [],
   "source": [
    "physio_diagnosis_train = physio_diagnosis_train.rename(columns={'patientId': 'patient_id'})\n",
    "physio_diagnosis_train.head()"
   ]
  },
  {
   "cell_type": "code",
   "execution_count": null,
   "metadata": {
    "collapsed": true
   },
   "outputs": [],
   "source": [
    "physio_diagnosis_train.count()"
   ]
  },
  {
   "cell_type": "code",
   "execution_count": null,
   "metadata": {
    "collapsed": true
   },
   "outputs": [],
   "source": [
    "# Merging/Joining patient_monthwise_revenue_train and physio_diagnosis_train on column match of 'patient_id'\n",
    "md_monthwise_revenue_physio_diagnosis_train = pd.merge(patient_monthwise_revenue_train, physio_diagnosis_train, on='patient_id')\n",
    "# After merging the no of columns should be 30.\n",
    "md_monthwise_revenue_physio_diagnosis_train.head()"
   ]
  },
  {
   "cell_type": "code",
   "execution_count": null,
   "metadata": {
    "collapsed": true
   },
   "outputs": [],
   "source": [
    "# which ever has the max count will be applied on same\n",
    "md_monthwise_revenue_physio_diagnosis_train.count()"
   ]
  },
  {
   "cell_type": "code",
   "execution_count": null,
   "metadata": {
    "collapsed": true
   },
   "outputs": [],
   "source": [
    "# here the patient id is named as pat_id, this need to be renamed\n",
    "physio_appts_train.head()"
   ]
  },
  {
   "cell_type": "code",
   "execution_count": null,
   "metadata": {
    "collapsed": true
   },
   "outputs": [],
   "source": [
    "physio_appts_train = physio_appts_train.rename(columns={'pat_id': 'patient_id'})\n",
    "physio_appts_train.head()"
   ]
  },
  {
   "cell_type": "code",
   "execution_count": null,
   "metadata": {
    "collapsed": true
   },
   "outputs": [],
   "source": [
    "physio_appts_train.count()"
   ]
  },
  {
   "cell_type": "code",
   "execution_count": null,
   "metadata": {
    "collapsed": true
   },
   "outputs": [],
   "source": [
    "# Merging md_monthwise_revenue_physio_diagnosis_train and physio_appts_train\n",
    "md_revenue_diagnois_appts_train = pd.merge(md_monthwise_revenue_physio_diagnosis_train, physio_appts_train, on='patient_id')"
   ]
  },
  {
   "cell_type": "code",
   "execution_count": null,
   "metadata": {
    "collapsed": true
   },
   "outputs": [],
   "source": [
    "# Now the merged data will be 39 columns\n",
    "md_revenue_diagnois_appts_train.head()"
   ]
  },
  {
   "cell_type": "code",
   "execution_count": null,
   "metadata": {
    "collapsed": true
   },
   "outputs": [],
   "source": [
    "md_revenue_diagnois_appts_train.count()"
   ]
  },
  {
   "cell_type": "code",
   "execution_count": null,
   "metadata": {
    "collapsed": true
   },
   "outputs": [],
   "source": [
    "# here the patient id is named as PID, this need to be renamed\n",
    "patient_train_classified.head()"
   ]
  },
  {
   "cell_type": "code",
   "execution_count": null,
   "metadata": {
    "collapsed": true
   },
   "outputs": [],
   "source": [
    "patient_train_classified = patient_train_classified.rename(columns={'PID': 'patient_id'})\n",
    "patient_train_classified.head()"
   ]
  },
  {
   "cell_type": "code",
   "execution_count": null,
   "metadata": {
    "collapsed": true
   },
   "outputs": [],
   "source": [
    "patient_train_classified.count()"
   ]
  },
  {
   "cell_type": "code",
   "execution_count": null,
   "metadata": {
    "collapsed": true
   },
   "outputs": [],
   "source": [
    "# Now merging the md_revenue_diagnois_appts_train with patient_train_classified\n",
    "md_revenue_diagnois_appts_class_train = pd.merge(md_revenue_diagnois_appts_train, patient_train_classified, on='patient_id')"
   ]
  },
  {
   "cell_type": "code",
   "execution_count": null,
   "metadata": {
    "collapsed": true
   },
   "outputs": [],
   "source": [
    "# Now the merged Dataframe contains 41 columns\n",
    "md_revenue_diagnois_appts_class_train.head()"
   ]
  },
  {
   "cell_type": "code",
   "execution_count": null,
   "metadata": {
    "collapsed": true
   },
   "outputs": [],
   "source": [
    "# This is the merged Dataframe of all the training data, which we should save for further processing\n",
    "md_revenue_diagnois_appts_class_train.count()"
   ]
  },
  {
   "cell_type": "code",
   "execution_count": null,
   "metadata": {
    "collapsed": true
   },
   "outputs": [],
   "source": [
    "# Writing the raw data to csv file\n",
    "md_revenue_diagnois_appts_class_train.to_csv('data/full_raw_train.csv', index=False)"
   ]
  },
  {
   "cell_type": "code",
   "execution_count": 2,
   "metadata": {},
   "outputs": [
    {
     "name": "stderr",
     "output_type": "stream",
     "text": [
      "D:\\softs\\anaconda3\\lib\\site-packages\\IPython\\core\\interactiveshell.py:2698: DtypeWarning: Columns (14,20,21,22,25,26,29,30) have mixed types. Specify dtype option on import or set low_memory=False.\n",
      "  interactivity=interactivity, compiler=compiler, result=result)\n"
     ]
    }
   ],
   "source": [
    "# Reading the written csv file to pandas dataframe\n",
    "full_raw_train = pd.read_csv('data/full_raw_train.csv')"
   ]
  },
  {
   "cell_type": "code",
   "execution_count": 3,
   "metadata": {},
   "outputs": [
    {
     "data": {
      "text/html": [
       "<div>\n",
       "<style scoped>\n",
       "    .dataframe tbody tr th:only-of-type {\n",
       "        vertical-align: middle;\n",
       "    }\n",
       "\n",
       "    .dataframe tbody tr th {\n",
       "        vertical-align: top;\n",
       "    }\n",
       "\n",
       "    .dataframe thead th {\n",
       "        text-align: right;\n",
       "    }\n",
       "</style>\n",
       "<table border=\"1\" class=\"dataframe\">\n",
       "  <thead>\n",
       "    <tr style=\"text-align: right;\">\n",
       "      <th></th>\n",
       "      <th>Unnamed: 0</th>\n",
       "      <th>patient_id</th>\n",
       "      <th>visit_month_year</th>\n",
       "      <th>service_id</th>\n",
       "      <th>visits_count</th>\n",
       "      <th>city</th>\n",
       "      <th>revenue</th>\n",
       "      <th>ref_type</th>\n",
       "      <th>ref_name</th>\n",
       "      <th>ref_source</th>\n",
       "      <th>...</th>\n",
       "      <th>startDateTime</th>\n",
       "      <th>serviceId</th>\n",
       "      <th>name</th>\n",
       "      <th>status</th>\n",
       "      <th>cost</th>\n",
       "      <th>discount</th>\n",
       "      <th>patient_ivr_confirmation</th>\n",
       "      <th>appointment_delayed</th>\n",
       "      <th>Bucket</th>\n",
       "      <th>Revenue</th>\n",
       "    </tr>\n",
       "  </thead>\n",
       "  <tbody>\n",
       "    <tr>\n",
       "      <th>0</th>\n",
       "      <td>0</td>\n",
       "      <td>10020</td>\n",
       "      <td>04/15</td>\n",
       "      <td>2</td>\n",
       "      <td>1</td>\n",
       "      <td>Chennai</td>\n",
       "      <td>500.0</td>\n",
       "      <td>B2C</td>\n",
       "      <td>None</td>\n",
       "      <td>Direct Organic</td>\n",
       "      <td>...</td>\n",
       "      <td>2013-11-25 11:00:00</td>\n",
       "      <td>2</td>\n",
       "      <td>Physiotherapy</td>\n",
       "      <td>cancelled</td>\n",
       "      <td>0.0</td>\n",
       "      <td>0.0</td>\n",
       "      <td>\\N</td>\n",
       "      <td>0</td>\n",
       "      <td>Low</td>\n",
       "      <td>500.0</td>\n",
       "    </tr>\n",
       "    <tr>\n",
       "      <th>1</th>\n",
       "      <td>1</td>\n",
       "      <td>10020</td>\n",
       "      <td>04/15</td>\n",
       "      <td>2</td>\n",
       "      <td>1</td>\n",
       "      <td>Chennai</td>\n",
       "      <td>500.0</td>\n",
       "      <td>B2C</td>\n",
       "      <td>None</td>\n",
       "      <td>Direct Organic</td>\n",
       "      <td>...</td>\n",
       "      <td>2015-04-21 13:00:00</td>\n",
       "      <td>2</td>\n",
       "      <td>Physiotherapy</td>\n",
       "      <td>successful</td>\n",
       "      <td>500.0</td>\n",
       "      <td>0.0</td>\n",
       "      <td>\\N</td>\n",
       "      <td>0</td>\n",
       "      <td>Low</td>\n",
       "      <td>500.0</td>\n",
       "    </tr>\n",
       "    <tr>\n",
       "      <th>2</th>\n",
       "      <td>2</td>\n",
       "      <td>10293</td>\n",
       "      <td>04/17</td>\n",
       "      <td>2</td>\n",
       "      <td>7</td>\n",
       "      <td>Mumbai</td>\n",
       "      <td>4900.0</td>\n",
       "      <td>B2C</td>\n",
       "      <td>Facebook</td>\n",
       "      <td>Digital + ATL</td>\n",
       "      <td>...</td>\n",
       "      <td>2013-12-21 16:30:00</td>\n",
       "      <td>2</td>\n",
       "      <td>Physiotherapy</td>\n",
       "      <td>cancelled</td>\n",
       "      <td>600.0</td>\n",
       "      <td>50.0</td>\n",
       "      <td>\\N</td>\n",
       "      <td>0</td>\n",
       "      <td>Med</td>\n",
       "      <td>4900.0</td>\n",
       "    </tr>\n",
       "    <tr>\n",
       "      <th>3</th>\n",
       "      <td>3</td>\n",
       "      <td>10293</td>\n",
       "      <td>04/17</td>\n",
       "      <td>2</td>\n",
       "      <td>7</td>\n",
       "      <td>Mumbai</td>\n",
       "      <td>4900.0</td>\n",
       "      <td>B2C</td>\n",
       "      <td>Facebook</td>\n",
       "      <td>Digital + ATL</td>\n",
       "      <td>...</td>\n",
       "      <td>2017-04-08 11:00:00</td>\n",
       "      <td>2</td>\n",
       "      <td>Physiotherapy</td>\n",
       "      <td>successful</td>\n",
       "      <td>700.0</td>\n",
       "      <td>0.0</td>\n",
       "      <td>1</td>\n",
       "      <td>0</td>\n",
       "      <td>Med</td>\n",
       "      <td>4900.0</td>\n",
       "    </tr>\n",
       "    <tr>\n",
       "      <th>4</th>\n",
       "      <td>4</td>\n",
       "      <td>10293</td>\n",
       "      <td>04/17</td>\n",
       "      <td>2</td>\n",
       "      <td>7</td>\n",
       "      <td>Mumbai</td>\n",
       "      <td>4900.0</td>\n",
       "      <td>B2C</td>\n",
       "      <td>Facebook</td>\n",
       "      <td>Digital + ATL</td>\n",
       "      <td>...</td>\n",
       "      <td>2017-04-01 11:00:00</td>\n",
       "      <td>2</td>\n",
       "      <td>Physiotherapy</td>\n",
       "      <td>cancelled</td>\n",
       "      <td>700.0</td>\n",
       "      <td>0.0</td>\n",
       "      <td>\\N</td>\n",
       "      <td>0</td>\n",
       "      <td>Med</td>\n",
       "      <td>4900.0</td>\n",
       "    </tr>\n",
       "  </tbody>\n",
       "</table>\n",
       "<p>5 rows × 42 columns</p>\n",
       "</div>"
      ],
      "text/plain": [
       "   Unnamed: 0  patient_id visit_month_year  service_id  visits_count     city  \\\n",
       "0           0       10020            04/15           2             1  Chennai   \n",
       "1           1       10020            04/15           2             1  Chennai   \n",
       "2           2       10293            04/17           2             7   Mumbai   \n",
       "3           3       10293            04/17           2             7   Mumbai   \n",
       "4           4       10293            04/17           2             7   Mumbai   \n",
       "\n",
       "   revenue ref_type  ref_name      ref_source   ...          startDateTime  \\\n",
       "0    500.0      B2C      None  Direct Organic   ...    2013-11-25 11:00:00   \n",
       "1    500.0      B2C      None  Direct Organic   ...    2015-04-21 13:00:00   \n",
       "2   4900.0      B2C  Facebook   Digital + ATL   ...    2013-12-21 16:30:00   \n",
       "3   4900.0      B2C  Facebook   Digital + ATL   ...    2017-04-08 11:00:00   \n",
       "4   4900.0      B2C  Facebook   Digital + ATL   ...    2017-04-01 11:00:00   \n",
       "\n",
       "  serviceId           name      status   cost discount  \\\n",
       "0         2  Physiotherapy   cancelled    0.0      0.0   \n",
       "1         2  Physiotherapy  successful  500.0      0.0   \n",
       "2         2  Physiotherapy   cancelled  600.0     50.0   \n",
       "3         2  Physiotherapy  successful  700.0      0.0   \n",
       "4         2  Physiotherapy   cancelled  700.0      0.0   \n",
       "\n",
       "  patient_ivr_confirmation appointment_delayed  Bucket Revenue  \n",
       "0                       \\N                   0     Low   500.0  \n",
       "1                       \\N                   0     Low   500.0  \n",
       "2                       \\N                   0     Med  4900.0  \n",
       "3                        1                   0     Med  4900.0  \n",
       "4                       \\N                   0     Med  4900.0  \n",
       "\n",
       "[5 rows x 42 columns]"
      ]
     },
     "execution_count": 3,
     "metadata": {},
     "output_type": "execute_result"
    }
   ],
   "source": [
    "full_raw_train.head()"
   ]
  },
  {
   "cell_type": "code",
   "execution_count": 4,
   "metadata": {},
   "outputs": [
    {
     "data": {
      "text/plain": [
       "['Unnamed: 0',\n",
       " 'patient_id',\n",
       " 'visit_month_year',\n",
       " 'service_id',\n",
       " 'visits_count',\n",
       " 'city',\n",
       " 'revenue',\n",
       " 'ref_type',\n",
       " 'ref_name',\n",
       " 'ref_source',\n",
       " 'service_name',\n",
       " 'FVD',\n",
       " 'FVM',\n",
       " 'FVS',\n",
       " 'approx_age',\n",
       " 'gender_x',\n",
       " 'LVD_x',\n",
       " 'brand',\n",
       " 'visits_required',\n",
       " 'diagnosis_x',\n",
       " 'avg_nps',\n",
       " 'Unnamed: 20',\n",
       " 'Unnamed: 21',\n",
       " 'diagnosis_y',\n",
       " 'Service',\n",
       " 'Appt_id',\n",
       " 'AGE',\n",
       " 'gender_y',\n",
       " 'LVD_y',\n",
       " 'Unnamed: 7',\n",
       " 'Unnamed: 8',\n",
       " 'appt_id',\n",
       " 'startDateTime',\n",
       " 'serviceId',\n",
       " 'name',\n",
       " 'status',\n",
       " 'cost',\n",
       " 'discount',\n",
       " 'patient_ivr_confirmation',\n",
       " 'appointment_delayed',\n",
       " 'Bucket',\n",
       " 'Revenue']"
      ]
     },
     "execution_count": 4,
     "metadata": {},
     "output_type": "execute_result"
    }
   ],
   "source": [
    "# Printing the column names\n",
    "list(full_raw_train.columns.values)"
   ]
  },
  {
   "cell_type": "code",
   "execution_count": 10,
   "metadata": {},
   "outputs": [
    {
     "data": {
      "text/html": [
       "<div>\n",
       "<style scoped>\n",
       "    .dataframe tbody tr th:only-of-type {\n",
       "        vertical-align: middle;\n",
       "    }\n",
       "\n",
       "    .dataframe tbody tr th {\n",
       "        vertical-align: top;\n",
       "    }\n",
       "\n",
       "    .dataframe thead th {\n",
       "        text-align: right;\n",
       "    }\n",
       "</style>\n",
       "<table border=\"1\" class=\"dataframe\">\n",
       "  <thead>\n",
       "    <tr style=\"text-align: right;\">\n",
       "      <th></th>\n",
       "      <th>service_id</th>\n",
       "      <th>serviceId</th>\n",
       "    </tr>\n",
       "  </thead>\n",
       "  <tbody>\n",
       "    <tr>\n",
       "      <th>0</th>\n",
       "      <td>2</td>\n",
       "      <td>2</td>\n",
       "    </tr>\n",
       "    <tr>\n",
       "      <th>1</th>\n",
       "      <td>2</td>\n",
       "      <td>2</td>\n",
       "    </tr>\n",
       "    <tr>\n",
       "      <th>2</th>\n",
       "      <td>2</td>\n",
       "      <td>2</td>\n",
       "    </tr>\n",
       "    <tr>\n",
       "      <th>3</th>\n",
       "      <td>2</td>\n",
       "      <td>2</td>\n",
       "    </tr>\n",
       "    <tr>\n",
       "      <th>4</th>\n",
       "      <td>2</td>\n",
       "      <td>2</td>\n",
       "    </tr>\n",
       "  </tbody>\n",
       "</table>\n",
       "</div>"
      ],
      "text/plain": [
       "   service_id  serviceId\n",
       "0           2          2\n",
       "1           2          2\n",
       "2           2          2\n",
       "3           2          2\n",
       "4           2          2"
      ]
     },
     "execution_count": 10,
     "metadata": {},
     "output_type": "execute_result"
    }
   ],
   "source": [
    "full_raw_train[['service_id', 'serviceId']].head()"
   ]
  },
  {
   "cell_type": "code",
   "execution_count": 12,
   "metadata": {},
   "outputs": [
    {
     "data": {
      "text/html": [
       "<div>\n",
       "<style scoped>\n",
       "    .dataframe tbody tr th:only-of-type {\n",
       "        vertical-align: middle;\n",
       "    }\n",
       "\n",
       "    .dataframe tbody tr th {\n",
       "        vertical-align: top;\n",
       "    }\n",
       "\n",
       "    .dataframe thead th {\n",
       "        text-align: right;\n",
       "    }\n",
       "</style>\n",
       "<table border=\"1\" class=\"dataframe\">\n",
       "  <thead>\n",
       "    <tr style=\"text-align: right;\">\n",
       "      <th></th>\n",
       "      <th>patient_id</th>\n",
       "      <th>appt_id</th>\n",
       "      <th>Appt_id</th>\n",
       "    </tr>\n",
       "  </thead>\n",
       "  <tbody>\n",
       "    <tr>\n",
       "      <th>0</th>\n",
       "      <td>10020</td>\n",
       "      <td>629</td>\n",
       "      <td>432155</td>\n",
       "    </tr>\n",
       "    <tr>\n",
       "      <th>1</th>\n",
       "      <td>10020</td>\n",
       "      <td>432155</td>\n",
       "      <td>432155</td>\n",
       "    </tr>\n",
       "    <tr>\n",
       "      <th>2</th>\n",
       "      <td>10293</td>\n",
       "      <td>2257</td>\n",
       "      <td>2617156</td>\n",
       "    </tr>\n",
       "    <tr>\n",
       "      <th>3</th>\n",
       "      <td>10293</td>\n",
       "      <td>2617156</td>\n",
       "      <td>2617156</td>\n",
       "    </tr>\n",
       "    <tr>\n",
       "      <th>4</th>\n",
       "      <td>10293</td>\n",
       "      <td>2625825</td>\n",
       "      <td>2617156</td>\n",
       "    </tr>\n",
       "  </tbody>\n",
       "</table>\n",
       "</div>"
      ],
      "text/plain": [
       "   patient_id  appt_id  Appt_id\n",
       "0       10020      629   432155\n",
       "1       10020   432155   432155\n",
       "2       10293     2257  2617156\n",
       "3       10293  2617156  2617156\n",
       "4       10293  2625825  2617156"
      ]
     },
     "execution_count": 12,
     "metadata": {},
     "output_type": "execute_result"
    }
   ],
   "source": [
    "full_raw_train[['patient_id','appt_id', 'Appt_id']].head()"
   ]
  },
  {
   "cell_type": "code",
   "execution_count": null,
   "metadata": {
    "collapsed": true
   },
   "outputs": [],
   "source": [
    "full_raw_train.drop(['serviceId', 'Appt_id']"
   ]
  },
  {
   "cell_type": "code",
   "execution_count": null,
   "metadata": {
    "collapsed": true
   },
   "outputs": [],
   "source": [
    "# Removing the duplicate columns\n",
    "# a1) service_id a2) serviceId\n",
    "# b1) service_name b2) name b3) Service\n",
    "full_raw_train = full_raw_train.T.drop_duplicates().T"
   ]
  },
  {
   "cell_type": "code",
   "execution_count": null,
   "metadata": {
    "collapsed": true
   },
   "outputs": [],
   "source": [
    "# Now rinting the column names after removing the duplicates\n",
    "list(full_raw_train.columns.values)"
   ]
  },
  {
   "cell_type": "code",
   "execution_count": null,
   "metadata": {},
   "outputs": [],
   "source": [
    "# Remove related columns \n",
    "# a) service id -> service name, b)\n",
    "pd"
   ]
  },
  {
   "cell_type": "code",
   "execution_count": 7,
   "metadata": {},
   "outputs": [
    {
     "data": {
      "text/html": [
       "<div>\n",
       "<style scoped>\n",
       "    .dataframe tbody tr th:only-of-type {\n",
       "        vertical-align: middle;\n",
       "    }\n",
       "\n",
       "    .dataframe tbody tr th {\n",
       "        vertical-align: top;\n",
       "    }\n",
       "\n",
       "    .dataframe thead th {\n",
       "        text-align: right;\n",
       "    }\n",
       "</style>\n",
       "<table border=\"1\" class=\"dataframe\">\n",
       "  <thead>\n",
       "    <tr style=\"text-align: right;\">\n",
       "      <th></th>\n",
       "      <th>patient_id</th>\n",
       "      <th>appt_id</th>\n",
       "    </tr>\n",
       "  </thead>\n",
       "  <tbody>\n",
       "    <tr>\n",
       "      <th>0</th>\n",
       "      <td>10020</td>\n",
       "      <td>629</td>\n",
       "    </tr>\n",
       "    <tr>\n",
       "      <th>1</th>\n",
       "      <td>10020</td>\n",
       "      <td>432155</td>\n",
       "    </tr>\n",
       "    <tr>\n",
       "      <th>2</th>\n",
       "      <td>10293</td>\n",
       "      <td>2257</td>\n",
       "    </tr>\n",
       "    <tr>\n",
       "      <th>3</th>\n",
       "      <td>10293</td>\n",
       "      <td>2617156</td>\n",
       "    </tr>\n",
       "    <tr>\n",
       "      <th>4</th>\n",
       "      <td>10293</td>\n",
       "      <td>2625825</td>\n",
       "    </tr>\n",
       "    <tr>\n",
       "      <th>5</th>\n",
       "      <td>10293</td>\n",
       "      <td>2625826</td>\n",
       "    </tr>\n",
       "    <tr>\n",
       "      <th>6</th>\n",
       "      <td>10293</td>\n",
       "      <td>2625827</td>\n",
       "    </tr>\n",
       "    <tr>\n",
       "      <th>7</th>\n",
       "      <td>10293</td>\n",
       "      <td>2632019</td>\n",
       "    </tr>\n",
       "    <tr>\n",
       "      <th>8</th>\n",
       "      <td>10293</td>\n",
       "      <td>2634194</td>\n",
       "    </tr>\n",
       "    <tr>\n",
       "      <th>9</th>\n",
       "      <td>10293</td>\n",
       "      <td>2639749</td>\n",
       "    </tr>\n",
       "    <tr>\n",
       "      <th>10</th>\n",
       "      <td>10293</td>\n",
       "      <td>2639750</td>\n",
       "    </tr>\n",
       "    <tr>\n",
       "      <th>11</th>\n",
       "      <td>10293</td>\n",
       "      <td>2639751</td>\n",
       "    </tr>\n",
       "    <tr>\n",
       "      <th>12</th>\n",
       "      <td>10381</td>\n",
       "      <td>2719</td>\n",
       "    </tr>\n",
       "    <tr>\n",
       "      <th>13</th>\n",
       "      <td>10381</td>\n",
       "      <td>2927</td>\n",
       "    </tr>\n",
       "    <tr>\n",
       "      <th>14</th>\n",
       "      <td>10381</td>\n",
       "      <td>675822</td>\n",
       "    </tr>\n",
       "    <tr>\n",
       "      <th>15</th>\n",
       "      <td>10381</td>\n",
       "      <td>679254</td>\n",
       "    </tr>\n",
       "    <tr>\n",
       "      <th>16</th>\n",
       "      <td>10381</td>\n",
       "      <td>679255</td>\n",
       "    </tr>\n",
       "    <tr>\n",
       "      <th>17</th>\n",
       "      <td>10381</td>\n",
       "      <td>679256</td>\n",
       "    </tr>\n",
       "    <tr>\n",
       "      <th>18</th>\n",
       "      <td>10381</td>\n",
       "      <td>679257</td>\n",
       "    </tr>\n",
       "    <tr>\n",
       "      <th>19</th>\n",
       "      <td>10381</td>\n",
       "      <td>679258</td>\n",
       "    </tr>\n",
       "    <tr>\n",
       "      <th>20</th>\n",
       "      <td>10381</td>\n",
       "      <td>679259</td>\n",
       "    </tr>\n",
       "    <tr>\n",
       "      <th>21</th>\n",
       "      <td>10381</td>\n",
       "      <td>679260</td>\n",
       "    </tr>\n",
       "    <tr>\n",
       "      <th>22</th>\n",
       "      <td>10381</td>\n",
       "      <td>679261</td>\n",
       "    </tr>\n",
       "    <tr>\n",
       "      <th>23</th>\n",
       "      <td>10381</td>\n",
       "      <td>679262</td>\n",
       "    </tr>\n",
       "    <tr>\n",
       "      <th>24</th>\n",
       "      <td>10381</td>\n",
       "      <td>679263</td>\n",
       "    </tr>\n",
       "    <tr>\n",
       "      <th>25</th>\n",
       "      <td>10381</td>\n",
       "      <td>685154</td>\n",
       "    </tr>\n",
       "    <tr>\n",
       "      <th>26</th>\n",
       "      <td>10381</td>\n",
       "      <td>685157</td>\n",
       "    </tr>\n",
       "    <tr>\n",
       "      <th>27</th>\n",
       "      <td>10381</td>\n",
       "      <td>685186</td>\n",
       "    </tr>\n",
       "    <tr>\n",
       "      <th>28</th>\n",
       "      <td>10381</td>\n",
       "      <td>701562</td>\n",
       "    </tr>\n",
       "    <tr>\n",
       "      <th>29</th>\n",
       "      <td>10381</td>\n",
       "      <td>701563</td>\n",
       "    </tr>\n",
       "    <tr>\n",
       "      <th>...</th>\n",
       "      <td>...</td>\n",
       "      <td>...</td>\n",
       "    </tr>\n",
       "    <tr>\n",
       "      <th>2968528</th>\n",
       "      <td>454372</td>\n",
       "      <td>3607846</td>\n",
       "    </tr>\n",
       "    <tr>\n",
       "      <th>2968529</th>\n",
       "      <td>454372</td>\n",
       "      <td>3607904</td>\n",
       "    </tr>\n",
       "    <tr>\n",
       "      <th>2968530</th>\n",
       "      <td>454378</td>\n",
       "      <td>3507115</td>\n",
       "    </tr>\n",
       "    <tr>\n",
       "      <th>2968531</th>\n",
       "      <td>454484</td>\n",
       "      <td>3509096</td>\n",
       "    </tr>\n",
       "    <tr>\n",
       "      <th>2968532</th>\n",
       "      <td>454510</td>\n",
       "      <td>3509710</td>\n",
       "    </tr>\n",
       "    <tr>\n",
       "      <th>2968533</th>\n",
       "      <td>454510</td>\n",
       "      <td>3515354</td>\n",
       "    </tr>\n",
       "    <tr>\n",
       "      <th>2968534</th>\n",
       "      <td>454510</td>\n",
       "      <td>3515355</td>\n",
       "    </tr>\n",
       "    <tr>\n",
       "      <th>2968535</th>\n",
       "      <td>454510</td>\n",
       "      <td>3553272</td>\n",
       "    </tr>\n",
       "    <tr>\n",
       "      <th>2968536</th>\n",
       "      <td>454510</td>\n",
       "      <td>3553273</td>\n",
       "    </tr>\n",
       "    <tr>\n",
       "      <th>2968537</th>\n",
       "      <td>454510</td>\n",
       "      <td>3559094</td>\n",
       "    </tr>\n",
       "    <tr>\n",
       "      <th>2968538</th>\n",
       "      <td>454510</td>\n",
       "      <td>3559095</td>\n",
       "    </tr>\n",
       "    <tr>\n",
       "      <th>2968539</th>\n",
       "      <td>454510</td>\n",
       "      <td>3559096</td>\n",
       "    </tr>\n",
       "    <tr>\n",
       "      <th>2968540</th>\n",
       "      <td>454510</td>\n",
       "      <td>3509710</td>\n",
       "    </tr>\n",
       "    <tr>\n",
       "      <th>2968541</th>\n",
       "      <td>454510</td>\n",
       "      <td>3515354</td>\n",
       "    </tr>\n",
       "    <tr>\n",
       "      <th>2968542</th>\n",
       "      <td>454510</td>\n",
       "      <td>3515355</td>\n",
       "    </tr>\n",
       "    <tr>\n",
       "      <th>2968543</th>\n",
       "      <td>454510</td>\n",
       "      <td>3553272</td>\n",
       "    </tr>\n",
       "    <tr>\n",
       "      <th>2968544</th>\n",
       "      <td>454510</td>\n",
       "      <td>3553273</td>\n",
       "    </tr>\n",
       "    <tr>\n",
       "      <th>2968545</th>\n",
       "      <td>454510</td>\n",
       "      <td>3559094</td>\n",
       "    </tr>\n",
       "    <tr>\n",
       "      <th>2968546</th>\n",
       "      <td>454510</td>\n",
       "      <td>3559095</td>\n",
       "    </tr>\n",
       "    <tr>\n",
       "      <th>2968547</th>\n",
       "      <td>454510</td>\n",
       "      <td>3559096</td>\n",
       "    </tr>\n",
       "    <tr>\n",
       "      <th>2968548</th>\n",
       "      <td>454598</td>\n",
       "      <td>3510990</td>\n",
       "    </tr>\n",
       "    <tr>\n",
       "      <th>2968549</th>\n",
       "      <td>454598</td>\n",
       "      <td>3547838</td>\n",
       "    </tr>\n",
       "    <tr>\n",
       "      <th>2968550</th>\n",
       "      <td>454598</td>\n",
       "      <td>3557284</td>\n",
       "    </tr>\n",
       "    <tr>\n",
       "      <th>2968551</th>\n",
       "      <td>454598</td>\n",
       "      <td>3510990</td>\n",
       "    </tr>\n",
       "    <tr>\n",
       "      <th>2968552</th>\n",
       "      <td>454598</td>\n",
       "      <td>3547838</td>\n",
       "    </tr>\n",
       "    <tr>\n",
       "      <th>2968553</th>\n",
       "      <td>454598</td>\n",
       "      <td>3557284</td>\n",
       "    </tr>\n",
       "    <tr>\n",
       "      <th>2968554</th>\n",
       "      <td>454658</td>\n",
       "      <td>3511211</td>\n",
       "    </tr>\n",
       "    <tr>\n",
       "      <th>2968555</th>\n",
       "      <td>454658</td>\n",
       "      <td>3529513</td>\n",
       "    </tr>\n",
       "    <tr>\n",
       "      <th>2968556</th>\n",
       "      <td>454678</td>\n",
       "      <td>3511288</td>\n",
       "    </tr>\n",
       "    <tr>\n",
       "      <th>2968557</th>\n",
       "      <td>454678</td>\n",
       "      <td>3520450</td>\n",
       "    </tr>\n",
       "  </tbody>\n",
       "</table>\n",
       "<p>2968558 rows × 2 columns</p>\n",
       "</div>"
      ],
      "text/plain": [
       "         patient_id  appt_id\n",
       "0             10020      629\n",
       "1             10020   432155\n",
       "2             10293     2257\n",
       "3             10293  2617156\n",
       "4             10293  2625825\n",
       "5             10293  2625826\n",
       "6             10293  2625827\n",
       "7             10293  2632019\n",
       "8             10293  2634194\n",
       "9             10293  2639749\n",
       "10            10293  2639750\n",
       "11            10293  2639751\n",
       "12            10381     2719\n",
       "13            10381     2927\n",
       "14            10381   675822\n",
       "15            10381   679254\n",
       "16            10381   679255\n",
       "17            10381   679256\n",
       "18            10381   679257\n",
       "19            10381   679258\n",
       "20            10381   679259\n",
       "21            10381   679260\n",
       "22            10381   679261\n",
       "23            10381   679262\n",
       "24            10381   679263\n",
       "25            10381   685154\n",
       "26            10381   685157\n",
       "27            10381   685186\n",
       "28            10381   701562\n",
       "29            10381   701563\n",
       "...             ...      ...\n",
       "2968528      454372  3607846\n",
       "2968529      454372  3607904\n",
       "2968530      454378  3507115\n",
       "2968531      454484  3509096\n",
       "2968532      454510  3509710\n",
       "2968533      454510  3515354\n",
       "2968534      454510  3515355\n",
       "2968535      454510  3553272\n",
       "2968536      454510  3553273\n",
       "2968537      454510  3559094\n",
       "2968538      454510  3559095\n",
       "2968539      454510  3559096\n",
       "2968540      454510  3509710\n",
       "2968541      454510  3515354\n",
       "2968542      454510  3515355\n",
       "2968543      454510  3553272\n",
       "2968544      454510  3553273\n",
       "2968545      454510  3559094\n",
       "2968546      454510  3559095\n",
       "2968547      454510  3559096\n",
       "2968548      454598  3510990\n",
       "2968549      454598  3547838\n",
       "2968550      454598  3557284\n",
       "2968551      454598  3510990\n",
       "2968552      454598  3547838\n",
       "2968553      454598  3557284\n",
       "2968554      454658  3511211\n",
       "2968555      454658  3529513\n",
       "2968556      454678  3511288\n",
       "2968557      454678  3520450\n",
       "\n",
       "[2968558 rows x 2 columns]"
      ]
     },
     "execution_count": 7,
     "metadata": {},
     "output_type": "execute_result"
    }
   ],
   "source": [
    "full_raw_train[['patient_id', 'appt_id']]"
   ]
  },
  {
   "cell_type": "code",
   "execution_count": null,
   "metadata": {
    "collapsed": true
   },
   "outputs": [],
   "source": []
  }
 ],
 "metadata": {
  "kernelspec": {
   "display_name": "Python 3",
   "language": "python",
   "name": "python3"
  },
  "language_info": {
   "codemirror_mode": {
    "name": "ipython",
    "version": 3
   },
   "file_extension": ".py",
   "mimetype": "text/x-python",
   "name": "python",
   "nbconvert_exporter": "python",
   "pygments_lexer": "ipython3",
   "version": "3.6.3"
  }
 },
 "nbformat": 4,
 "nbformat_minor": 2
}
