{
 "cells": [
  {
   "cell_type": "code",
   "execution_count": 1,
   "metadata": {},
   "outputs": [],
   "source": [
    "# Importing required packages\n",
    "import pandas as pd"
   ]
  },
  {
   "cell_type": "code",
   "execution_count": 2,
   "metadata": {},
   "outputs": [],
   "source": [
    "# Reading the input csv cleaned file\n",
    "# Since some invalid values are available in data - XIMB_raw.csv \n",
    "# - Ex: Age: contains alphabets describing age in hindi words, 18+\n",
    "# Read the data_documentation.txt for details of each shortcut representation of header to original value\n",
    "ximb_raw = pd.read_csv('XIMB_cleaned.csv')"
   ]
  },
  {
   "cell_type": "code",
   "execution_count": 3,
   "metadata": {},
   "outputs": [
    {
     "data": {
      "text/plain": [
       "(117, 31)"
      ]
     },
     "execution_count": 3,
     "metadata": {},
     "output_type": "execute_result"
    }
   ],
   "source": [
    "# Shape is 117 rows with 31 columns\n",
    "ximb_raw.shape"
   ]
  },
  {
   "cell_type": "code",
   "execution_count": 4,
   "metadata": {},
   "outputs": [
    {
     "data": {
      "text/html": [
       "<div>\n",
       "<style scoped>\n",
       "    .dataframe tbody tr th:only-of-type {\n",
       "        vertical-align: middle;\n",
       "    }\n",
       "\n",
       "    .dataframe tbody tr th {\n",
       "        vertical-align: top;\n",
       "    }\n",
       "\n",
       "    .dataframe thead th {\n",
       "        text-align: right;\n",
       "    }\n",
       "</style>\n",
       "<table border=\"1\" class=\"dataframe\">\n",
       "  <thead>\n",
       "    <tr style=\"text-align: right;\">\n",
       "      <th></th>\n",
       "      <th>Timestamp</th>\n",
       "      <th>name</th>\n",
       "      <th>Age</th>\n",
       "      <th>Gender</th>\n",
       "      <th>Locality</th>\n",
       "      <th>education_level</th>\n",
       "      <th>household_income</th>\n",
       "      <th>employed</th>\n",
       "      <th>app_home_security_awareness</th>\n",
       "      <th>awareness_source</th>\n",
       "      <th>...</th>\n",
       "      <th>pco</th>\n",
       "      <th>ent_mdl_int</th>\n",
       "      <th>loc_pck_gdt_os</th>\n",
       "      <th>loc_pck_gdt_os_gs_cntrl</th>\n",
       "      <th>loc_fr_pck_gdt_os_gs_cntrl</th>\n",
       "      <th>loc_fr_pck_es_gdt_os_gs_cntrl</th>\n",
       "      <th>loc_fr_pck_gdt_os_full_ai</th>\n",
       "      <th>loc_prx_pck_gdt_os_basic</th>\n",
       "      <th>loc_fr_prx_pck_gdt_os_full_ai</th>\n",
       "      <th>loc_prx_pck_gdt_os_gs_cntrl</th>\n",
       "    </tr>\n",
       "  </thead>\n",
       "  <tbody>\n",
       "    <tr>\n",
       "      <th>56</th>\n",
       "      <td>2018/03/15 7:51:19 PM GMT+5:30</td>\n",
       "      <td>Rounak</td>\n",
       "      <td>26</td>\n",
       "      <td>Male</td>\n",
       "      <td>Urban</td>\n",
       "      <td>Graduation</td>\n",
       "      <td>5-10 Lakhs</td>\n",
       "      <td>Yes</td>\n",
       "      <td>Yes</td>\n",
       "      <td>Online</td>\n",
       "      <td>...</td>\n",
       "      <td>4</td>\n",
       "      <td>3</td>\n",
       "      <td>4</td>\n",
       "      <td>5</td>\n",
       "      <td>3</td>\n",
       "      <td>4</td>\n",
       "      <td>3</td>\n",
       "      <td>2</td>\n",
       "      <td>5</td>\n",
       "      <td>4</td>\n",
       "    </tr>\n",
       "    <tr>\n",
       "      <th>52</th>\n",
       "      <td>2018/03/15 7:32:42 PM GMT+5:30</td>\n",
       "      <td>NaN</td>\n",
       "      <td>25</td>\n",
       "      <td>Female</td>\n",
       "      <td>Urban</td>\n",
       "      <td>Graduation</td>\n",
       "      <td>10-15 Lakhs</td>\n",
       "      <td>Currently Studying</td>\n",
       "      <td>Yes</td>\n",
       "      <td>Online</td>\n",
       "      <td>...</td>\n",
       "      <td>5</td>\n",
       "      <td>3</td>\n",
       "      <td>3</td>\n",
       "      <td>3</td>\n",
       "      <td>3</td>\n",
       "      <td>3</td>\n",
       "      <td>3</td>\n",
       "      <td>3</td>\n",
       "      <td>3</td>\n",
       "      <td>3</td>\n",
       "    </tr>\n",
       "    <tr>\n",
       "      <th>75</th>\n",
       "      <td>2018/03/15 9:09:58 PM GMT+5:30</td>\n",
       "      <td>Arijit Singha Roy</td>\n",
       "      <td>26</td>\n",
       "      <td>Male</td>\n",
       "      <td>Urban</td>\n",
       "      <td>Post Graduation</td>\n",
       "      <td>5-10 Lakhs</td>\n",
       "      <td>No</td>\n",
       "      <td>Yes</td>\n",
       "      <td>Online</td>\n",
       "      <td>...</td>\n",
       "      <td>5</td>\n",
       "      <td>5</td>\n",
       "      <td>4</td>\n",
       "      <td>5</td>\n",
       "      <td>4</td>\n",
       "      <td>3</td>\n",
       "      <td>3</td>\n",
       "      <td>4</td>\n",
       "      <td>5</td>\n",
       "      <td>4</td>\n",
       "    </tr>\n",
       "    <tr>\n",
       "      <th>10</th>\n",
       "      <td>2018/03/14 7:20:14 PM GMT+5:30</td>\n",
       "      <td>Soham Datta</td>\n",
       "      <td>25</td>\n",
       "      <td>Male</td>\n",
       "      <td>Urban</td>\n",
       "      <td>Graduation</td>\n",
       "      <td>5-10 Lakhs</td>\n",
       "      <td>No</td>\n",
       "      <td>Yes</td>\n",
       "      <td>Social Media</td>\n",
       "      <td>...</td>\n",
       "      <td>5</td>\n",
       "      <td>2</td>\n",
       "      <td>4</td>\n",
       "      <td>2</td>\n",
       "      <td>2</td>\n",
       "      <td>2</td>\n",
       "      <td>4</td>\n",
       "      <td>3</td>\n",
       "      <td>3</td>\n",
       "      <td>4</td>\n",
       "    </tr>\n",
       "    <tr>\n",
       "      <th>9</th>\n",
       "      <td>2018/03/14 7:19:15 PM GMT+5:30</td>\n",
       "      <td>Shatam Patri</td>\n",
       "      <td>23</td>\n",
       "      <td>Male</td>\n",
       "      <td>Urban</td>\n",
       "      <td>Graduation</td>\n",
       "      <td>10-15 Lakhs</td>\n",
       "      <td>Currently Studying</td>\n",
       "      <td>Yes</td>\n",
       "      <td>News and Media Coverage</td>\n",
       "      <td>...</td>\n",
       "      <td>5</td>\n",
       "      <td>5</td>\n",
       "      <td>4</td>\n",
       "      <td>5</td>\n",
       "      <td>3</td>\n",
       "      <td>3</td>\n",
       "      <td>4</td>\n",
       "      <td>3</td>\n",
       "      <td>5</td>\n",
       "      <td>3</td>\n",
       "    </tr>\n",
       "    <tr>\n",
       "      <th>47</th>\n",
       "      <td>2018/03/15 7:26:57 PM GMT+5:30</td>\n",
       "      <td>Nikhita</td>\n",
       "      <td>22</td>\n",
       "      <td>Female</td>\n",
       "      <td>Urban</td>\n",
       "      <td>Graduation</td>\n",
       "      <td>0-5 Lakhs</td>\n",
       "      <td>Yes</td>\n",
       "      <td>Yes</td>\n",
       "      <td>Online</td>\n",
       "      <td>...</td>\n",
       "      <td>5</td>\n",
       "      <td>5</td>\n",
       "      <td>4</td>\n",
       "      <td>5</td>\n",
       "      <td>5</td>\n",
       "      <td>4</td>\n",
       "      <td>5</td>\n",
       "      <td>4</td>\n",
       "      <td>5</td>\n",
       "      <td>3</td>\n",
       "    </tr>\n",
       "    <tr>\n",
       "      <th>13</th>\n",
       "      <td>2018/03/14 7:44:20 PM GMT+5:30</td>\n",
       "      <td>NaN</td>\n",
       "      <td>22</td>\n",
       "      <td>Male</td>\n",
       "      <td>Urban</td>\n",
       "      <td>Graduation</td>\n",
       "      <td>0-5 Lakhs</td>\n",
       "      <td>Yes</td>\n",
       "      <td>No</td>\n",
       "      <td>I have not heard of that</td>\n",
       "      <td>...</td>\n",
       "      <td>5</td>\n",
       "      <td>5</td>\n",
       "      <td>5</td>\n",
       "      <td>5</td>\n",
       "      <td>5</td>\n",
       "      <td>5</td>\n",
       "      <td>5</td>\n",
       "      <td>5</td>\n",
       "      <td>5</td>\n",
       "      <td>5</td>\n",
       "    </tr>\n",
       "  </tbody>\n",
       "</table>\n",
       "<p>7 rows × 31 columns</p>\n",
       "</div>"
      ],
      "text/plain": [
       "                         Timestamp               name  Age  Gender Locality  \\\n",
       "56  2018/03/15 7:51:19 PM GMT+5:30             Rounak   26    Male    Urban   \n",
       "52  2018/03/15 7:32:42 PM GMT+5:30                NaN   25  Female    Urban   \n",
       "75  2018/03/15 9:09:58 PM GMT+5:30  Arijit Singha Roy   26    Male    Urban   \n",
       "10  2018/03/14 7:20:14 PM GMT+5:30       Soham Datta    25    Male    Urban   \n",
       "9   2018/03/14 7:19:15 PM GMT+5:30       Shatam Patri   23    Male    Urban   \n",
       "47  2018/03/15 7:26:57 PM GMT+5:30            Nikhita   22  Female    Urban   \n",
       "13  2018/03/14 7:44:20 PM GMT+5:30                NaN   22    Male    Urban   \n",
       "\n",
       "    education_level household_income            employed  \\\n",
       "56       Graduation       5-10 Lakhs                 Yes   \n",
       "52       Graduation      10-15 Lakhs  Currently Studying   \n",
       "75  Post Graduation       5-10 Lakhs                  No   \n",
       "10       Graduation       5-10 Lakhs                  No   \n",
       "9        Graduation      10-15 Lakhs  Currently Studying   \n",
       "47       Graduation        0-5 Lakhs                 Yes   \n",
       "13       Graduation        0-5 Lakhs                 Yes   \n",
       "\n",
       "   app_home_security_awareness          awareness_source  \\\n",
       "56                         Yes                    Online   \n",
       "52                         Yes                    Online   \n",
       "75                         Yes                    Online   \n",
       "10                         Yes              Social Media   \n",
       "9                          Yes   News and Media Coverage   \n",
       "47                         Yes                    Online   \n",
       "13                          No  I have not heard of that   \n",
       "\n",
       "               ...              pco ent_mdl_int loc_pck_gdt_os  \\\n",
       "56             ...                4           3              4   \n",
       "52             ...                5           3              3   \n",
       "75             ...                5           5              4   \n",
       "10             ...                5           2              4   \n",
       "9              ...                5           5              4   \n",
       "47             ...                5           5              4   \n",
       "13             ...                5           5              5   \n",
       "\n",
       "   loc_pck_gdt_os_gs_cntrl loc_fr_pck_gdt_os_gs_cntrl  \\\n",
       "56                       5                          3   \n",
       "52                       3                          3   \n",
       "75                       5                          4   \n",
       "10                       2                          2   \n",
       "9                        5                          3   \n",
       "47                       5                          5   \n",
       "13                       5                          5   \n",
       "\n",
       "   loc_fr_pck_es_gdt_os_gs_cntrl loc_fr_pck_gdt_os_full_ai  \\\n",
       "56                             4                         3   \n",
       "52                             3                         3   \n",
       "75                             3                         3   \n",
       "10                             2                         4   \n",
       "9                              3                         4   \n",
       "47                             4                         5   \n",
       "13                             5                         5   \n",
       "\n",
       "    loc_prx_pck_gdt_os_basic  loc_fr_prx_pck_gdt_os_full_ai  \\\n",
       "56                         2                              5   \n",
       "52                         3                              3   \n",
       "75                         4                              5   \n",
       "10                         3                              3   \n",
       "9                          3                              5   \n",
       "47                         4                              5   \n",
       "13                         5                              5   \n",
       "\n",
       "    loc_prx_pck_gdt_os_gs_cntrl  \n",
       "56                            4  \n",
       "52                            3  \n",
       "75                            4  \n",
       "10                            4  \n",
       "9                             3  \n",
       "47                            3  \n",
       "13                            5  \n",
       "\n",
       "[7 rows x 31 columns]"
      ]
     },
     "execution_count": 4,
     "metadata": {},
     "output_type": "execute_result"
    }
   ],
   "source": [
    "# Looking at the sample data of how it looks like\n",
    "ximb_raw.sample(7)"
   ]
  },
  {
   "cell_type": "code",
   "execution_count": 5,
   "metadata": {},
   "outputs": [],
   "source": [
    "# Checking if there are any missing values\n",
    "missing_values_count = ximb_raw.isnull().sum()"
   ]
  },
  {
   "cell_type": "code",
   "execution_count": 6,
   "metadata": {},
   "outputs": [
    {
     "data": {
      "text/plain": [
       "Timestamp                         0\n",
       "name                             27\n",
       "Age                               0\n",
       "Gender                            0\n",
       "Locality                          0\n",
       "education_level                   0\n",
       "household_income                  0\n",
       "employed                          0\n",
       "app_home_security_awareness       0\n",
       "awareness_source                  1\n",
       "vr_assistants_usage               0\n",
       "vr_assistants_frq                 0\n",
       "percieve_imp_hm_sec               0\n",
       "numpad_locking                    0\n",
       "module_purchase                   0\n",
       "ent_pack_elc_gdt                  0\n",
       "vra_support_lvl                   0\n",
       "pop                               0\n",
       "qop                               0\n",
       "ss                                0\n",
       "sec_contrl_robust                 0\n",
       "pco                               0\n",
       "ent_mdl_int                       0\n",
       "loc_pck_gdt_os                    0\n",
       "loc_pck_gdt_os_gs_cntrl           0\n",
       "loc_fr_pck_gdt_os_gs_cntrl        0\n",
       "loc_fr_pck_es_gdt_os_gs_cntrl     0\n",
       "loc_fr_pck_gdt_os_full_ai         0\n",
       "loc_prx_pck_gdt_os_basic          0\n",
       "loc_fr_prx_pck_gdt_os_full_ai     0\n",
       "loc_prx_pck_gdt_os_gs_cntrl       0\n",
       "dtype: int64"
      ]
     },
     "execution_count": 6,
     "metadata": {},
     "output_type": "execute_result"
    }
   ],
   "source": [
    "# there are 27 missing names and 1 awareness_source\n",
    "missing_values_count"
   ]
  },
  {
   "cell_type": "code",
   "execution_count": 7,
   "metadata": {},
   "outputs": [
    {
     "data": {
      "text/plain": [
       "Index(['Timestamp', 'name', 'Age', 'Gender', 'Locality', 'education_level',\n",
       "       'household_income', 'employed', 'app_home_security_awareness',\n",
       "       'awareness_source', 'vr_assistants_usage', 'vr_assistants_frq',\n",
       "       'percieve_imp_hm_sec', 'numpad_locking', 'module_purchase',\n",
       "       'ent_pack_elc_gdt', 'vra_support_lvl', 'pop', 'qop', 'ss',\n",
       "       'sec_contrl_robust', 'pco', 'ent_mdl_int', 'loc_pck_gdt_os',\n",
       "       'loc_pck_gdt_os_gs_cntrl', 'loc_fr_pck_gdt_os_gs_cntrl',\n",
       "       'loc_fr_pck_es_gdt_os_gs_cntrl', 'loc_fr_pck_gdt_os_full_ai',\n",
       "       'loc_prx_pck_gdt_os_basic', 'loc_fr_prx_pck_gdt_os_full_ai',\n",
       "       'loc_prx_pck_gdt_os_gs_cntrl'],\n",
       "      dtype='object')"
      ]
     },
     "execution_count": 7,
     "metadata": {},
     "output_type": "execute_result"
    }
   ],
   "source": [
    "# Columns of the csv data file\n",
    "ximb_raw.columns"
   ]
  },
  {
   "cell_type": "code",
   "execution_count": 8,
   "metadata": {},
   "outputs": [
    {
     "data": {
      "text/plain": [
       "0            Friends and family\n",
       "1            Friends and family\n",
       "2            Friends and family\n",
       "3                  Social Media\n",
       "4                        Online\n",
       "5                        Online\n",
       "6                        Online\n",
       "7            Friends and family\n",
       "8       News and Media Coverage\n",
       "9       News and Media Coverage\n",
       "10                 Social Media\n",
       "11                       Online\n",
       "12                 Social Media\n",
       "13     I have not heard of that\n",
       "14           Friends and family\n",
       "15      News and Media Coverage\n",
       "16           Friends and family\n",
       "17                 Social Media\n",
       "18                       Online\n",
       "19                       Online\n",
       "20           Friends and family\n",
       "21                 Social Media\n",
       "22                 Social Media\n",
       "23                       Online\n",
       "24      News and Media Coverage\n",
       "25      News and Media Coverage\n",
       "26                 Social Media\n",
       "27                       Online\n",
       "28           Friends and family\n",
       "29      News and Media Coverage\n",
       "                 ...           \n",
       "87      News and Media Coverage\n",
       "88                       Online\n",
       "89                       Online\n",
       "90                       Online\n",
       "91                       Online\n",
       "92           Friends and family\n",
       "93                 Social Media\n",
       "94                       Online\n",
       "95           Friends and family\n",
       "96                 Social Media\n",
       "97                 Social Media\n",
       "98                 Social Media\n",
       "99                 Social Media\n",
       "100          Friends and family\n",
       "101     News and Media Coverage\n",
       "102     News and Media Coverage\n",
       "103                      Online\n",
       "104                      Online\n",
       "105                Social Media\n",
       "106     News and Media Coverage\n",
       "107          Friends and family\n",
       "108                      Online\n",
       "109                      Online\n",
       "110          Friends and family\n",
       "111                Social Media\n",
       "112                Social Media\n",
       "113                         NaN\n",
       "114     News and Media Coverage\n",
       "115                      Online\n",
       "116          Friends and family\n",
       "Name: awareness_source, Length: 117, dtype: object"
      ]
     },
     "execution_count": 8,
     "metadata": {},
     "output_type": "execute_result"
    }
   ],
   "source": [
    "# Lets do cluster analysis of Age and awareness_source\n",
    "ximb_raw['awareness_source']"
   ]
  },
  {
   "cell_type": "code",
   "execution_count": 9,
   "metadata": {},
   "outputs": [
    {
     "data": {
      "text/plain": [
       "0      21\n",
       "1      31\n",
       "2      25\n",
       "3      27\n",
       "4      25\n",
       "5      25\n",
       "6      24\n",
       "7      22\n",
       "8      26\n",
       "9      23\n",
       "10     25\n",
       "11     25\n",
       "12     22\n",
       "13     22\n",
       "14     23\n",
       "15     22\n",
       "16     21\n",
       "17     22\n",
       "18     28\n",
       "19     22\n",
       "20     21\n",
       "21     23\n",
       "22     23\n",
       "23     19\n",
       "24     22\n",
       "25     22\n",
       "26     26\n",
       "27     22\n",
       "28     26\n",
       "29     26\n",
       "       ..\n",
       "87     25\n",
       "88     23\n",
       "89     22\n",
       "90     24\n",
       "91     22\n",
       "92     20\n",
       "93     24\n",
       "94     26\n",
       "95     22\n",
       "96     24\n",
       "97     25\n",
       "98     22\n",
       "99     25\n",
       "100    23\n",
       "101    25\n",
       "102    23\n",
       "103    25\n",
       "104    39\n",
       "105    24\n",
       "106    24\n",
       "107    22\n",
       "108    28\n",
       "109    24\n",
       "110    23\n",
       "111    25\n",
       "112    22\n",
       "113    27\n",
       "114    25\n",
       "115    24\n",
       "116    23\n",
       "Name: Age, Length: 117, dtype: int64"
      ]
     },
     "execution_count": 9,
     "metadata": {},
     "output_type": "execute_result"
    }
   ],
   "source": [
    "# Age data\n",
    "ximb_raw['Age']"
   ]
  },
  {
   "cell_type": "code",
   "execution_count": 10,
   "metadata": {},
   "outputs": [],
   "source": [
    "# Importing KMeans for cluster analysis\n",
    "from sklearn.cluster import KMeans"
   ]
  },
  {
   "cell_type": "code",
   "execution_count": 11,
   "metadata": {},
   "outputs": [],
   "source": [
    "# Label encoder for converting categorical(string) data to numerical(float) data format for analysis\n",
    "from sklearn.preprocessing import LabelEncoder"
   ]
  },
  {
   "cell_type": "code",
   "execution_count": 12,
   "metadata": {},
   "outputs": [],
   "source": [
    "le = LabelEncoder()\n",
    "ximb_raw['awareness_source'] = ximb_raw['awareness_source'].astype(str)\n",
    "ximb_raw['awareness_source'] = le.fit_transform(ximb_raw['awareness_source'])"
   ]
  },
  {
   "cell_type": "code",
   "execution_count": 13,
   "metadata": {},
   "outputs": [],
   "source": [
    "# Retrieving only Age and awareness_source from original raw data (dataframe)\n",
    "age_awareness_src = ximb_raw[['Age', 'awareness_source']]"
   ]
  },
  {
   "cell_type": "code",
   "execution_count": 14,
   "metadata": {},
   "outputs": [
    {
     "data": {
      "text/plain": [
       "pandas.core.frame.DataFrame"
      ]
     },
     "execution_count": 14,
     "metadata": {},
     "output_type": "execute_result"
    }
   ],
   "source": [
    "# datatype is pandas DataFrame\n",
    "type(age_awareness_src)"
   ]
  },
  {
   "cell_type": "code",
   "execution_count": 15,
   "metadata": {},
   "outputs": [
    {
     "data": {
      "text/plain": [
       "numpy.ndarray"
      ]
     },
     "execution_count": 15,
     "metadata": {},
     "output_type": "execute_result"
    }
   ],
   "source": [
    "# Converting the dataframe into numpy ndaarray\n",
    "age_awareness_np_matrx = age_awareness_src.as_matrix()\n",
    "# now the type is numpy ndarray\n",
    "type(age_awareness_np_matrx)"
   ]
  },
  {
   "cell_type": "code",
   "execution_count": 16,
   "metadata": {},
   "outputs": [],
   "source": [
    "# Running kmeans clustering of 4 clusters, since there are 4 different labels in awareness_source\n",
    "kmeans = KMeans(n_clusters=4, random_state=0).fit(age_awareness_np_matrx)"
   ]
  },
  {
   "cell_type": "code",
   "execution_count": 17,
   "metadata": {},
   "outputs": [
    {
     "data": {
      "text/plain": [
       "array([2, 3, 2, 0, 0, 0, 0, 2, 0, 0, 0, 0, 0, 2, 2, 0, 2, 0, 0, 0, 2, 0,\n",
       "       0, 0, 0, 0, 0, 0, 2, 0, 0, 0, 0, 0, 2, 0, 0, 0, 2, 0, 1, 0, 0, 0,\n",
       "       0, 3, 0, 0, 0, 2, 0, 0, 0, 0, 0, 2, 0, 2, 0, 2, 0, 0, 0, 0, 0, 0,\n",
       "       2, 0, 2, 3, 3, 0, 3, 0, 0, 0, 0, 0, 0, 0, 0, 0, 2, 3, 0, 2, 0, 0,\n",
       "       0, 0, 0, 0, 2, 0, 0, 2, 0, 0, 0, 0, 2, 0, 0, 0, 3, 0, 0, 2, 0, 0,\n",
       "       2, 0, 0, 0, 0, 0, 2], dtype=int32)"
      ]
     },
     "execution_count": 17,
     "metadata": {},
     "output_type": "execute_result"
    }
   ],
   "source": [
    "kmeans.labels_"
   ]
  },
  {
   "cell_type": "code",
   "execution_count": 18,
   "metadata": {},
   "outputs": [],
   "source": [
    "# Importing matplotlib for plotting and visualization\n",
    "import matplotlib.pyplot as plt"
   ]
  },
  {
   "cell_type": "code",
   "execution_count": 19,
   "metadata": {},
   "outputs": [
    {
     "data": {
      "text/plain": [
       "<matplotlib.collections.PathCollection at 0x7fd5c646f550>"
      ]
     },
     "execution_count": 19,
     "metadata": {},
     "output_type": "execute_result"
    },
    {
     "data": {
      "image/png": "[encoded data removed]",
      "text/plain": [
       "<Figure size 432x288 with 1 Axes>"
      ]
     },
     "metadata": {},
     "output_type": "display_data"
    }
   ],
   "source": [
    "# Doing the scatter plot\n",
    "plt.scatter(age_awareness_np_matrx[:, 0], age_awareness_np_matrx[:, 1], c=kmeans.labels_, cmap='viridis')"
   ]
  }
 ],
 "metadata": {
  "kernelspec": {
   "display_name": "Python 3",
   "language": "python",
   "name": "python3"
  },
  "language_info": {
   "codemirror_mode": {
    "name": "ipython",
    "version": 3
   },
   "file_extension": ".py",
   "mimetype": "text/x-python",
   "name": "python",
   "nbconvert_exporter": "python",
   "pygments_lexer": "ipython3",
   "version": "3.6.4"
  }
 },
 "nbformat": 4,
 "nbformat_minor": 2
}
